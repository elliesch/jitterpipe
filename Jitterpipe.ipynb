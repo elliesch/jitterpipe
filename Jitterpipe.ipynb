{
 "cells": [
  {
   "cell_type": "code",
   "execution_count": 183,
   "metadata": {
    "collapsed": false
   },
   "outputs": [],
   "source": [
    "def jitterpipe(dirpath, psrname, MJDint, clearoutput=True, cal=True, zap=True, scrunch=True, timing=True, resids=True):\n",
    "    \n",
    "    '''\n",
    "    Jitterpipe\n",
    "    6/27/2016\n",
    "\n",
    "    Modified version of Michael Lam's pipeline by Ellianna Schwab with help from Michael Lam and Scott Ransom.\n",
    "    Michael Lam's original pipeline is here: http://astro.cornell.edu/~mlam/files/pipeline.py\n",
    "\n",
    "    Reduction pipeline for any NANOGrav input data. Time scrunches to two intervals for jitter analysis.\n",
    "    This assumes all the incoming parfiles are .gls.par!\n",
    "\n",
    "    Takes arguments as \n",
    "    jitterpipe(dirpath, psrname, MJDint, clearoutput=True, cal=True, zap=True, scrunch=True, timing=True, resids=True)\n",
    "\n",
    "        dirpath is the directory that contains the pulsar's files. to run, store cf and rf files in a folder /folded.\n",
    "\n",
    "        psrname is the name of the psr as displayed in par and sum.sm files, such as J1713+0747\n",
    "\n",
    "        MJDint takes in the brightest MJD date and creates a plot interval on that date\n",
    "\n",
    "        clearoutput takes True or False, clears all prior reduction folders and files\n",
    "\n",
    "        cal takes True or False, makes calib files and stores them in calib/\n",
    "\n",
    "        zap takes True or False, removes the RFI and makes zap files from the calibrated files\n",
    "\n",
    "        scrunch takes True or False, scrunches the files to 10s and 80s subints, with 8 subchannels\n",
    "\n",
    "        timing takes True or False, creates TOAs and tim files for  both sets of scrunched files\n",
    "\n",
    "        resids takes True or False, creates plots to show the jitter on the MJD day with brightest flux for that object\n",
    "\n",
    "    '''\n",
    "    \n",
    "    ## ==============================\n",
    "    ## Imports and Definitions\n",
    "    ## ==============================\n",
    "\n",
    "    import os #provides uniform interface to a number of OS functions\n",
    "    import sys #contains useful functions and variables\n",
    "    import subprocess #processes that run as independent entities\n",
    "    import glob #finds all pathnames matching a specified pattern\n",
    "\n",
    "    import residuals as r #brings in Scott's residuals\n",
    "    import numpy as np\n",
    "    import matplotlib.pyplot as plt\n",
    "    %matplotlib inline\n",
    "    import math\n",
    "\n",
    "    OUTPUT_FRONT = \"jitterpipe: \"\n",
    "    DIR = dirpath #ex. /nimrod1/eschwab/B1937_data/\n",
    "    PARFILE = DIR + \"%s_NANOGrav_11yv0.par\" %psrname \n",
    "    TEMPLATEFILE = DIR + \"%s.L-wide.PUPPI.11y.x.sum.sm\" %psrname \n",
    "\n",
    "    def call(x): \n",
    "        subprocess.call(x,shell=True)\n",
    "    def printer(x):\n",
    "        print(OUTPUT_FRONT+x)\n",
    "    def add_header (filename, line):\n",
    "        with open(filename, 'r+') as f:\n",
    "            content=f.read()\n",
    "            f.seek(0,0)\n",
    "            f.write(line.rstrip('\\r\\n') + '\\n' + content)\n",
    "        \n",
    "\n",
    "    ## ==============================\n",
    "    ## Choose Sections to Run\n",
    "    ## ==============================\n",
    "\n",
    "    printer(\"Running %s jitterpipe reduction pipeline\" %psrname)\n",
    "\n",
    "    CLEARFLAG = clearoutput\n",
    "    CALFLAG = cal\n",
    "    ZAPFLAG = zap\n",
    "    SPLITFLAG = scrunch\n",
    "    TIMFLAG = timing\n",
    "    RESIDFLAG = resids\n",
    "\n",
    "    #DMPRINTERFLAG = F \n",
    "    \n",
    "\n",
    "    ## ==============================\n",
    "    ## Clear old version\n",
    "    ## ==============================\n",
    "\n",
    "    ## Runs a bash script to rm old files and prints out deletion complete\n",
    "\n",
    "    if CLEARFLAG:\n",
    "        printer(\"Deleting old version\")\n",
    "        call(\"rm -rf %scal\" %DIR)\n",
    "        call(\"rm -rf %scalib\" %DIR)\n",
    "        call(\"rm -rf %scalibP\" %DIR)\n",
    "        call(\"rm -rf %szap\" %DIR)\n",
    "        call(\"rm -rf %stiming\" %DIR)\n",
    "        call(\"rm -rf %sproducts\" %DIR)\n",
    "        printer(\"Deletion complete\")\n",
    "\n",
    "\n",
    "    ## ==============================\n",
    "    ## Calibration\n",
    "    ## ==============================\n",
    "\n",
    "    ## Generates cal files using pam on the cf files and pac on the rf files\n",
    "    ## Setup so the cal and rf files should be in a folder called \"folded\"\n",
    "\n",
    "    if CALFLAG:\n",
    "        printer(\"Generating pulsar calibrators\")\n",
    "        call(\"mkdir %scal\" %DIR)\n",
    "        call(\"cp %sfolded/*cf %scal/.\" %(DIR, DIR)) #goes into directory folded and copies all .cf files into cal as they are\n",
    "        call(\"pam -m -T %scal/*cf\" %DIR) #Time scrunches the cf files\n",
    "\n",
    "        printer(\"Generating calibrator database\")\n",
    "        call(\"pac -w -k %scal/caldatabase.txt -p %scal/\" %(DIR, DIR)) #pac performs both polarimetric and flux calibration of pulsar observations\n",
    "        printer(\"Calibrating fits files\")\n",
    "        call(\"pac -Tax -d %scal/caldatabase.txt %sfolded/*rf\" %(DIR, DIR)) #pac creates cal files along with database file\n",
    "        printer(\"Calibration complete\")\n",
    "\n",
    "        printer(\"Moving calibrated files\")\n",
    "        call(\"mkdir %scalib\" %DIR)\n",
    "        call(\"mv %sfolded/*calib* %scalib/\" %(DIR, DIR)) # in bash.cp *word* means anything before and anything after\n",
    "        \n",
    "#QUESTION FOR SCOTT\n",
    "        #Do we need to be fixing for negative bandwidth?\n",
    "        #printer(\"Fixing negative bandwidth\")\n",
    "        #call(\"pam -m --reverse_freqs calib/*calib\")\n",
    "\n",
    "\n",
    "    ## ==============================\n",
    "    ## Zapping\n",
    "    ## ==============================\n",
    "\n",
    "    ## Generates cal and rf files using pam on the cf files and pac on the rf files\n",
    "    \n",
    "    if ZAPFLAG:\n",
    "        printer(\"Removing RFI (this may take awhile)\") #paz uses manual and automatic modes for interference excision\n",
    "                                                       #for lots of files, this crashes due to memory problems\n",
    "        files = sorted(glob.glob(\"%scalib/*.calib*\" %DIR))\n",
    "        for f in files: #first two are summed together - from Michael. \n",
    "            call(\"paz -v -e zap -j 'zap median exp={$off:max-$off:min},zap median' %s\" %f) \n",
    "            #this should generate zap files \n",
    "        call(\"mkdir %szap\" %DIR)\n",
    "        call(\"mv %scalib/*zap %szap/.\" %(DIR, DIR))\n",
    "        printer(\"Zapping complete\")\n",
    "\n",
    "\n",
    "    ## ==============================\n",
    "    ## Split into different frequency/time subintervals\n",
    "    ## ==============================\n",
    "\n",
    "    ## Given original files with 10 second intervals, gives files that are 80s subintervals + 8 subchannels and files\n",
    "    ## that are 8 subchannels without being timescrunched.\n",
    "\n",
    "    if SPLITFLAG:\n",
    "        printer(\"Making 10s-->80s, 256-->8 channel files\")\n",
    "\n",
    "#QUESTION FOR SCOTT\n",
    "        #Michael's code combined some of the pulse profiles, when they were on the same MJD\n",
    "        #I thought this won't be helpful for jitter, but I modified his code to work in recursively in case \n",
    "        #and commented it out.\n",
    "        \n",
    "        #call(\"ls zap/*zap > MJD.txt\")\n",
    "        #call(\"awk -F '_' '{print $2}' names.txt > temp && mv temp MJD.txt\")\n",
    "        #    MJD=myfile.read().splitlines()\n",
    "        #for t in MJD:\n",
    "        #    call(\"psradd -o PUPPI_%s_%s_XXXX_all.zap PUPPI_%s_%s_????_all.zap\" %(t, psrname, t, psrname))\n",
    "\n",
    "        call(\"pam -e zap80F8 -t 8 -f 32 %szap/*zap\" %DIR)\n",
    "        call(\"rename .zap80F8 _80F8.zap %szap/*zap80F8\" %DIR)\n",
    "        \n",
    "        printer(\"Making 256-->8 channel, no tscrunch files\")\n",
    "        call(\"pam -e zapNTF8 -f 32 %szap/*zap\" %DIR)\n",
    "        call(\"rename .zapNTF8 _NTF8.zap %szap/*zapNTF8\" %DIR)  \n",
    "        \n",
    "        printer(\"Splitting complete\")\n",
    "\n",
    "\n",
    "    ## ==============================\n",
    "    ## Timing\n",
    "    ## ==============================\n",
    "\n",
    "    ## Calculates TOAs for both time subintervals and saves into tim files\n",
    "\n",
    "    if TIMFLAG:\n",
    "        printer(\"Producing timing solution\")\n",
    "        \n",
    "        call(\"mkdir %stiming\" %DIR)\n",
    "        \n",
    "        #Creating a for loop to pull out the unique MJD dates to an array\n",
    "        files = sorted(glob.glob(\"%szap/*.zapNTF8\" %DIR))\n",
    "        MJDarray=[]\n",
    "        for f in files: #Michael had files[2:], double check that!\n",
    "            MJD = int(f.split('_')[2])\n",
    "            if MJD not in MJDarray:\n",
    "                MJDarray.append(MJD)\n",
    "        \n",
    "        #This will create tim files for the 80S SUBINT + 8 channel files\n",
    "        \n",
    "        #Creating forloop to loop over the MJD titles\n",
    "        for date in MJDarray:\n",
    "            call(\"pat -A FDM -e mcmc=0 -C chan -C subint -C snr -C wt -f 'tempo2 IPTA' -s %s %szap/puppi_%s_%s_????.11y.zap80F8 > %stiming/%s_%s_NANOGrav_11y_80F8.tim\" %(TEMPLATEFILE, DIR, date, psrname, DIR, date, psrname))\n",
    "            add_header('%s%s_%s_NANOGrav_11y_NTF8.tim' %(DIR, date, psrname), \"MODE 1\")\n",
    "        \n",
    "#         printer(\"Writing master tim file for 80s subint + 8 channel files\")      \n",
    "#         call(\"pat -A FDM -e mcmc=0 -C chan -C subint -C snr -C wt -f 'tempo2 IPTA' -s %s %szap/*.zap80F8 > %stiming/master_%s_NANOGrav_11y_80F8.tim\" %(TEMPLATEFILE, DIR, DIR, psrname))\n",
    "#         add_header('%smaster_%s_NANOGrav_11y_80F8.tim' %(DIR, psrname), \"MODE 1\")\n",
    "        \n",
    "        ## ==============================\n",
    "        \n",
    "        #This will create tim files for the 10S SUBINT (no tscrunch) + 8 channel files\n",
    "        \n",
    "        printer(\"Writing daily tim file for 10s subint + 8 channel files\")  \n",
    "                \n",
    "        #Creating forloop to loop over the MJD titles\n",
    "        for date in MJDarray:\n",
    "            call(\"pat -A FDM -e mcmc=0 -C chan -C subint -C snr -C wt -f 'tempo2 IPTA' -s %s %szap/puppi_%s_%s_????.11y.zapNTF8 > %stiming/%s_%s_NANOGrav_11y_NTF8.tim\" %(TEMPLATEFILE, DIR, date, psrname, DIR, date, psrname))\n",
    "            add_header('%s%s_%s_NANOGrav_11y_NTF8.tim' %(DIR, date, psrname), \"MODE 1\")\n",
    "        \n",
    "#         printer(\"Writing master tim file for 10s subint + 8 channel files\")     \n",
    "#         call(\"pat -A FDM -e mcmc=0 -C chan -C subint -C snr -C wt -f 'tempo2 IPTA' -s %s %szap/*.zapNTF8 > %stiming/master_%s_NANOGrav_11y_NTF8.tim\" %(TEMPLATEFILE, DIR, DIR, psrname))\n",
    "#         add_header('%smaster_%s_NANOGrav_11y_NTF8.tim' %(DIR, psrname), \"MODE 1\")  \n",
    "\n",
    "        call(\"mkdir %stiming\" %DIR)\n",
    "\n",
    "        printer(\"Timing solution complete\")\n",
    "\n",
    "\n",
    "    ## ==============================\n",
    "    ## Residuals\n",
    "    ## ==============================\n",
    "\n",
    "\n",
    "    if RESIDFLAG:\n",
    "        printer(\"Running tempo\")\n",
    "\n",
    "        call(\"mkdir %sproducts\" %DIR)\n",
    "        \n",
    "        #This turns off all the calibrators in the NANOGrav parfiles\n",
    "        par=open(DIR + \"%s_NANOGrav_11yv0.gls.par\" %psrname, 'r')\n",
    "        pardata=par.read()\n",
    "        par.close()\n",
    "        \n",
    "        par=open(PARFILE, 'w')\n",
    "        par.write(pardata.replace(\"  1  \", \"  0  \"))\n",
    "        par.close\n",
    "        \n",
    "        if TIMFLAG is False:\n",
    "            files = sorted(glob.glob(\"%szap/*.zapNTF8\" %DIR))\n",
    "            MJDarray=[]\n",
    "            for f in files: #Michael had files[2:], double check that!\n",
    "                MJD = int(f.split('_')[2])\n",
    "                if MJD not in MJDarray:\n",
    "                    MJDarray.append(MJD)        \n",
    "        \n",
    "        #This runs tempo on 80s + 8 channel files, using the master tim files\n",
    "        \n",
    "#         call(\"tempo -G -f %s %stiming/master_%s_NANOGrav_11y_80F8.tim \" %(PARFILE, DIR, psrname) )\n",
    "#         call(\"mv resid2.tmp %sproducts/resid_80F8.tmp\" %DIR)\n",
    "        \n",
    "        for date in MJDarray:\n",
    "            call(\"tempo -G -f %s %stiming/%s_%s_NANOGrav_11y_80F8.tim\" %(PARFILE, DIR, date, psrname) )\n",
    "            call(\"mv resid2.tmp %sproducts/resid_%s_80F8.tmp\" %(DIR, date))\n",
    "        \n",
    "        \n",
    "        #This runs tempo on 10s + 8 channel files, recursively using the daily tim files\n",
    "        \n",
    "        #It first fills in the MJDarray, if TIMFLAG had been turned off      \n",
    "\n",
    "        for date in MJDarray:\n",
    "            #print date\n",
    "            #print \"tempo -G -f %s %stiming/%s_%s_NANOGrav_11y_NTF8.tim\" %(PARFILE, DIR, date, psrname) \n",
    "            call(\"tempo -G -f %s %stiming/%s_%s_NANOGrav_11y_NTF8.tim\" %(PARFILE, DIR, date, psrname) )\n",
    "            call(\"mv resid2.tmp %sproducts/resid_%s_NTF8.tmp\" %(DIR, date))\n",
    "        \n",
    "        printer(\"Residuals generated\")\n",
    "    \n",
    "        ## ==========================\n",
    "    \n",
    "        printer(\"Generating Plots for specified MJD\")\n",
    "        \n",
    "        #First Plotting 80s + 8 channel plot\n",
    "        \n",
    "        #Defining the residuals\n",
    "        x=r.read_residuals(filename= DIR + \"products/resid_%s_80F8.tmp\" %MJDint)\n",
    "        \n",
    "        #Defining the colormap\n",
    "        from matplotlib.colors import LinearSegmentedColormap\n",
    "        interval=np.hstack([np.linspace(0.05, 0.25), np.linspace(0.35,0.9)])\n",
    "        colors=plt.cm.gist_rainbow(interval)\n",
    "        cmap=LinearSegmentedColormap.from_list('name', colors, 8)\n",
    "\n",
    "        #Defining Tick numbers for the colorbar\n",
    "        from matplotlib import ticker\n",
    "        tick_locator = ticker.MaxNLocator(nbins=9)\n",
    "        \n",
    "        #Creating the plot\n",
    "        fig,ax = plt.subplots(figsize=(17,8))\n",
    "        cax = ax.scatter(x.bary_TOA, x.prefit_sec, c=x.bary_freq, s=20, edgecolor='#262626', linewidth='0.35', cmap=cmap)\n",
    "        ax.set_title('MJD %s, All Frequency Bands, 80s subintervals, 8subchannels' %MJDint, fontsize='16')\n",
    "        ax.set_xlim(MJDint, (MJDint + 1))\n",
    "        ax.set_ylim(-0.00001, 0.00001)\n",
    "        cb=fig.colorbar(cax)\n",
    "        cb.locator = tick_locator\n",
    "        cb.update_ticks()\n",
    "\n",
    "        plt.savefig(DIR + 'products/%s_80s_8chan.png' %psrname)\n",
    "        plt.show()\n",
    "        \n",
    "        #Next Plotting 10s + 8 channel plot\n",
    "        \n",
    "        #Defining the residuals\n",
    "        y=r.read_residuals(filename= DIR + \"products/resid_%s_NTF8.tmp\" %MJDint)\n",
    "        \n",
    "        #Creating the plot\n",
    "        fig,ax = plt.subplots(figsize=(17,8))\n",
    "        cax = ax.scatter(y.bary_TOA, y.prefit_sec, c=y.bary_freq, s=20, edgecolor='#262626', linewidth='0.35', cmap=cmap)\n",
    "        MJDtitle = str(MJDint)\n",
    "        ax.set_title('MJD %s, All Frequency Bands, 10s subintervals, 8subchannels' %MJDtitle, fontsize='16')\n",
    "        ax.set_xlim(MJDint, (MJDint + 1))\n",
    "        ax.set_ylim(-0.00001, 0.00001)\n",
    "        cb=fig.colorbar(cax)\n",
    "        cb.locator = tick_locator\n",
    "        cb.update_ticks()\n",
    "\n",
    "        plt.savefig(DIR + 'products/%s_10s_8chan.png' %psrname)\n",
    "        plt.show()\n",
    "        \n",
    "        printer(\"Plots generated\")\n",
    "\n",
    "    # I don't think we'll need this section, so I have it turned off above, no option in funcion def to turn on.\n",
    "    # It changes the MJDs on the zap files, and it's an interesting forloop method of string replacement!\n",
    "#     if DMPRINTERFLAG:\n",
    "#         files = sorted(glob.glob(\"zap/*all.zap\"))\n",
    "#         for i,f in enumerate(files[2:]):\n",
    "#             MJD = float(f.split('_')[1])\n",
    "#             print \"DMX_%04d  0.0 1\" % (i+1)\n",
    "#             print \"DMXR1_%04d  %0.1f\" % (i+1,MJD-1)\n",
    "#             print \"DMXR2_%04d  %0.1f\" % (i+1,MJD+2) #covers two special cases\n",
    "\n",
    "\n",
    "    printer(\"Jitterpipe complete\")"
   ]
  },
  {
   "cell_type": "code",
   "execution_count": 26,
   "metadata": {
    "collapsed": false,
    "scrolled": true
   },
   "outputs": [
    {
     "name": "stdout",
     "output_type": "stream",
     "text": [
      "jitterpipe: Running J1713+0747 jitterpipe reduction pipeline\n",
      "jitterpipe: Generating pulsar calibrators\n",
      "jitterpipe: Generating calibrator database\n",
      "jitterpipe: Calibrating fits files\n",
      "jitterpipe: Calibration complete\n",
      "jitterpipe: Moving calibrated files\n",
      "jitterpipe: Jitterpipe complete\n"
     ]
    }
   ],
   "source": [
    "## Testing CALFLAG\n",
    "jitterpipe('/nimrod1/eschwab/J1713_data/', 'J1713+0747', 56380, clearoutput=False, cal=True, zap=False, scrunch=False, timing=False, resids=False)"
   ]
  },
  {
   "cell_type": "code",
   "execution_count": 24,
   "metadata": {
    "collapsed": false,
    "scrolled": true
   },
   "outputs": [
    {
     "name": "stdout",
     "output_type": "stream",
     "text": [
      "jitterpipe: Running J1713+0747 jitterpipe reduction pipeline\n",
      "jitterpipe: Deleting old version\n",
      "jitterpipe: Deletion complete\n",
      "jitterpipe: Jitterpipe complete\n"
     ]
    }
   ],
   "source": [
    "## Testing CLEARFLAG\n",
    "jitterpipe('/nimrod1/eschwab/J1713_data/', 'J1713+0747', 56380, clearoutput=True, cal=False, zap=False, scrunch=False, timing=False, resids=False)"
   ]
  },
  {
   "cell_type": "code",
   "execution_count": 27,
   "metadata": {
    "collapsed": false,
    "scrolled": true
   },
   "outputs": [
    {
     "name": "stdout",
     "output_type": "stream",
     "text": [
      "jitterpipe: Running J1713+0747 jitterpipe reduction pipeline\n",
      "jitterpipe: Removing RFI (this may take awhile)\n",
      "jitterpipe: Zapping complete\n",
      "jitterpipe: Jitterpipe complete\n"
     ]
    }
   ],
   "source": [
    "## Testing ZAPFLAG\n",
    "jitterpipe('/nimrod1/eschwab/J1713_data/', 'J1713+0747', 56380, clearoutput=False, cal=False, zap=True, scrunch=False, timing=False, resids=False)"
   ]
  },
  {
   "cell_type": "code",
   "execution_count": 28,
   "metadata": {
    "collapsed": false
   },
   "outputs": [
    {
     "name": "stdout",
     "output_type": "stream",
     "text": [
      "jitterpipe: Running J1713+0747 jitterpipe reduction pipeline\n",
      "jitterpipe: Making 10s-->80s, 256-->8 channel files\n",
      "jitterpipe: Making 256-->8 channel, no tscrunch files\n",
      "jitterpipe: Splitting complete\n",
      "jitterpipe: Jitterpipe complete\n"
     ]
    }
   ],
   "source": [
    "## Testing SPLITFLAG\n",
    "jitterpipe('/nimrod1/eschwab/J1713_data/', 'J1713+0747', 56380, clearoutput=False, cal=False, zap=False, scrunch=True, timing=False, resids=False)"
   ]
  },
  {
   "cell_type": "code",
   "execution_count": 98,
   "metadata": {
    "collapsed": false,
    "scrolled": true
   },
   "outputs": [
    {
     "name": "stdout",
     "output_type": "stream",
     "text": [
      "jitterpipe: Running J1713+0747 jitterpipe reduction pipeline\n",
      "jitterpipe: Producing timing solution\n",
      "jitterpipe: Writing tim file for 80s subint + 8 channel files\n",
      "jitterpipe: Writing tim file for 10s subint + 8 channel files\n",
      "jitterpipe: Timing solution complete\n",
      "jitterpipe: Jitterpipe complete\n"
     ]
    }
   ],
   "source": [
    "## Testing TIMFLAG\n",
    "jitterpipe('/nimrod1/eschwab/J1713_data/', 'J1713+0747', 56380, clearoutput=False, cal=False, zap=False, scrunch=False, timing=True, resids=False)"
   ]
  },
  {
   "cell_type": "code",
   "execution_count": 102,
   "metadata": {
    "collapsed": false,
    "scrolled": true
   },
   "outputs": [
    {
     "name": "stdout",
     "output_type": "stream",
     "text": [
      "jitterpipe: Running J1713+0747 jitterpipe reduction pipeline\n",
      "jitterpipe: Generating Plots for specified MJD\n"
     ]
    },
    {
     "data": {
      "image/png": "[encoded data removed]",
      "text/plain": [
       "<matplotlib.figure.Figure at 0x22fd990>"
      ]
     },
     "metadata": {},
     "output_type": "display_data"
    },
    {
     "ename": "IOError",
     "evalue": "[Errno 2] No such file or directory: 'products/resid_NTF8.tmp'",
     "output_type": "error",
     "traceback": [
      "\u001b[1;31m---------------------------------------------------------------------------\u001b[0m",
      "\u001b[1;31mIOError\u001b[0m                                   Traceback (most recent call last)",
      "\u001b[1;32m<ipython-input-102-6f630f0f8ce4>\u001b[0m in \u001b[0;36m<module>\u001b[1;34m()\u001b[0m\n\u001b[0;32m      1\u001b[0m \u001b[1;31m## Testing RESIDFLAG\u001b[0m\u001b[1;33m\u001b[0m\u001b[1;33m\u001b[0m\u001b[0m\n\u001b[1;32m----> 2\u001b[1;33m \u001b[0mjitterpipe\u001b[0m\u001b[1;33m(\u001b[0m\u001b[1;34m'/nimrod1/eschwab/J1713_data/'\u001b[0m\u001b[1;33m,\u001b[0m \u001b[1;34m'J1713+0747'\u001b[0m\u001b[1;33m,\u001b[0m \u001b[1;36m56380\u001b[0m\u001b[1;33m,\u001b[0m \u001b[0mclearoutput\u001b[0m\u001b[1;33m=\u001b[0m\u001b[0mFalse\u001b[0m\u001b[1;33m,\u001b[0m \u001b[0mcal\u001b[0m\u001b[1;33m=\u001b[0m\u001b[0mFalse\u001b[0m\u001b[1;33m,\u001b[0m \u001b[0mzap\u001b[0m\u001b[1;33m=\u001b[0m\u001b[0mFalse\u001b[0m\u001b[1;33m,\u001b[0m \u001b[0mscrunch\u001b[0m\u001b[1;33m=\u001b[0m\u001b[0mFalse\u001b[0m\u001b[1;33m,\u001b[0m \u001b[0mtiming\u001b[0m\u001b[1;33m=\u001b[0m\u001b[0mFalse\u001b[0m\u001b[1;33m,\u001b[0m \u001b[0mresids\u001b[0m\u001b[1;33m=\u001b[0m\u001b[0mTrue\u001b[0m\u001b[1;33m)\u001b[0m\u001b[1;33m\u001b[0m\u001b[0m\n\u001b[0m",
      "\u001b[1;32m<ipython-input-101-2136fde9e627>\u001b[0m in \u001b[0;36mjitterpipe\u001b[1;34m(dirpath, psrname, MJDint, clearoutput, cal, zap, scrunch, timing, resids)\u001b[0m\n\u001b[0;32m    285\u001b[0m \u001b[1;33m\u001b[0m\u001b[0m\n\u001b[0;32m    286\u001b[0m         \u001b[1;31m#Defining the residuals\u001b[0m\u001b[1;33m\u001b[0m\u001b[1;33m\u001b[0m\u001b[0m\n\u001b[1;32m--> 287\u001b[1;33m         \u001b[0my\u001b[0m\u001b[1;33m=\u001b[0m\u001b[0mr\u001b[0m\u001b[1;33m.\u001b[0m\u001b[0mread_residuals\u001b[0m\u001b[1;33m(\u001b[0m\u001b[0mfilename\u001b[0m\u001b[1;33m=\u001b[0m\u001b[1;34m\"products/resid_NTF8.tmp\"\u001b[0m\u001b[1;33m)\u001b[0m\u001b[1;33m\u001b[0m\u001b[0m\n\u001b[0m\u001b[0;32m    288\u001b[0m \u001b[1;33m\u001b[0m\u001b[0m\n\u001b[0;32m    289\u001b[0m         \u001b[1;31m#Creating the plot\u001b[0m\u001b[1;33m\u001b[0m\u001b[1;33m\u001b[0m\u001b[0m\n",
      "\u001b[1;32m/usr/local/src/presto/lib/python/residuals.pyc\u001b[0m in \u001b[0;36mread_residuals\u001b[1;34m(filename)\u001b[0m\n\u001b[0;32m     37\u001b[0m     \"\"\"\n\u001b[0;32m     38\u001b[0m     \u001b[0mr\u001b[0m \u001b[1;33m=\u001b[0m \u001b[0mresiduals\u001b[0m\u001b[1;33m(\u001b[0m\u001b[1;33m)\u001b[0m\u001b[1;33m\u001b[0m\u001b[0m\n\u001b[1;32m---> 39\u001b[1;33m     \u001b[0minfile\u001b[0m \u001b[1;33m=\u001b[0m \u001b[0mopen\u001b[0m\u001b[1;33m(\u001b[0m\u001b[0mfilename\u001b[0m\u001b[1;33m,\u001b[0m \u001b[1;34m\"rb\"\u001b[0m\u001b[1;33m)\u001b[0m\u001b[1;33m\u001b[0m\u001b[0m\n\u001b[0m\u001b[0;32m     40\u001b[0m     \u001b[0mswapchar\u001b[0m \u001b[1;33m=\u001b[0m \u001b[1;34m'<'\u001b[0m \u001b[1;31m# this is little-endian (default)\u001b[0m\u001b[1;33m\u001b[0m\u001b[0m\n\u001b[0;32m     41\u001b[0m     \u001b[0mdata\u001b[0m \u001b[1;33m=\u001b[0m \u001b[0minfile\u001b[0m\u001b[1;33m.\u001b[0m\u001b[0mread\u001b[0m\u001b[1;33m(\u001b[0m\u001b[1;36m8\u001b[0m\u001b[1;33m)\u001b[0m\u001b[1;33m\u001b[0m\u001b[0m\n",
      "\u001b[1;31mIOError\u001b[0m: [Errno 2] No such file or directory: 'products/resid_NTF8.tmp'"
     ]
    }
   ],
   "source": [
    "## Testing RESIDFLAG\n",
    "jitterpipe('/nimrod1/eschwab/J1713_data/', 'J1713+0747', 56380, clearoutput=False, cal=False, zap=False, scrunch=False, timing=False, resids=True)"
   ]
  },
  {
   "cell_type": "code",
   "execution_count": 104,
   "metadata": {
    "collapsed": true
   },
   "outputs": [
    {
     "name": "stdout",
     "output_type": "stream",
     "text": [
      "jitterpipe: Running J1713+0747 jitterpipe reduction pipeline\n",
      "jitterpipe: Deleting old version\n",
      "jitterpipe: Deletion complete\n",
      "jitterpipe: Generating pulsar calibrators\n",
      "jitterpipe: Generating calibrator database\n",
      "jitterpipe: Calibrating fits files\n",
      "jitterpipe: Calibration complete\n",
      "jitterpipe: Moving calibrated files\n",
      "jitterpipe: Removing RFI (this may take awhile)\n",
      "jitterpipe: Zapping complete\n",
      "jitterpipe: Making 10s-->80s, 256-->8 channel files\n"
     ]
    },
    {
     "ename": "KeyboardInterrupt",
     "evalue": "",
     "output_type": "error",
     "traceback": [
      "\u001b[1;31m---------------------------------------------------------------------------\u001b[0m",
      "\u001b[1;31mKeyboardInterrupt\u001b[0m                         Traceback (most recent call last)",
      "\u001b[1;32m<ipython-input-104-c1873c2c6291>\u001b[0m in \u001b[0;36m<module>\u001b[1;34m()\u001b[0m\n\u001b[0;32m      1\u001b[0m \u001b[1;31m## Testing the whole thing\u001b[0m\u001b[1;33m\u001b[0m\u001b[1;33m\u001b[0m\u001b[0m\n\u001b[1;32m----> 2\u001b[1;33m \u001b[0mjitterpipe\u001b[0m\u001b[1;33m(\u001b[0m\u001b[1;34m'/nimrod1/eschwab/J1713_data/'\u001b[0m\u001b[1;33m,\u001b[0m \u001b[1;34m'J1713+0747'\u001b[0m\u001b[1;33m,\u001b[0m \u001b[1;36m56380\u001b[0m\u001b[1;33m,\u001b[0m \u001b[0mclearoutput\u001b[0m\u001b[1;33m=\u001b[0m\u001b[0mTrue\u001b[0m\u001b[1;33m,\u001b[0m \u001b[0mcal\u001b[0m\u001b[1;33m=\u001b[0m\u001b[0mTrue\u001b[0m\u001b[1;33m,\u001b[0m \u001b[0mzap\u001b[0m\u001b[1;33m=\u001b[0m\u001b[0mTrue\u001b[0m\u001b[1;33m,\u001b[0m \u001b[0mscrunch\u001b[0m\u001b[1;33m=\u001b[0m\u001b[0mTrue\u001b[0m\u001b[1;33m,\u001b[0m \u001b[0mtiming\u001b[0m\u001b[1;33m=\u001b[0m\u001b[0mTrue\u001b[0m\u001b[1;33m,\u001b[0m \u001b[0mresids\u001b[0m\u001b[1;33m=\u001b[0m\u001b[0mTrue\u001b[0m\u001b[1;33m)\u001b[0m\u001b[1;33m\u001b[0m\u001b[0m\n\u001b[0m",
      "\u001b[1;32m<ipython-input-101-2136fde9e627>\u001b[0m in \u001b[0;36mjitterpipe\u001b[1;34m(dirpath, psrname, MJDint, clearoutput, cal, zap, scrunch, timing, resids)\u001b[0m\n\u001b[0;32m    166\u001b[0m         \u001b[1;31m#    call(\"psradd -o PUPPI_%s_%s_XXXX_all.zap PUPPI_%s_%s_????_all.zap\" %(t, psrname, t, psrname))\u001b[0m\u001b[1;33m\u001b[0m\u001b[1;33m\u001b[0m\u001b[0m\n\u001b[0;32m    167\u001b[0m \u001b[1;33m\u001b[0m\u001b[0m\n\u001b[1;32m--> 168\u001b[1;33m         \u001b[0mcall\u001b[0m\u001b[1;33m(\u001b[0m\u001b[1;34m\"pam -e zap80F8 -t 8 -f 32 zap/*zap\"\u001b[0m\u001b[1;33m)\u001b[0m\u001b[1;33m\u001b[0m\u001b[0m\n\u001b[0m\u001b[0;32m    169\u001b[0m         \u001b[0mcall\u001b[0m\u001b[1;33m(\u001b[0m\u001b[1;34m\"rename .zap80F8 _80F8.zap zap/*zap80F8\"\u001b[0m\u001b[1;33m)\u001b[0m\u001b[1;33m\u001b[0m\u001b[0m\n\u001b[0;32m    170\u001b[0m \u001b[1;33m\u001b[0m\u001b[0m\n",
      "\u001b[1;32m<ipython-input-101-2136fde9e627>\u001b[0m in \u001b[0;36mcall\u001b[1;34m(x)\u001b[0m\n\u001b[0;32m     54\u001b[0m \u001b[1;33m\u001b[0m\u001b[0m\n\u001b[0;32m     55\u001b[0m     \u001b[1;32mdef\u001b[0m \u001b[0mcall\u001b[0m\u001b[1;33m(\u001b[0m\u001b[0mx\u001b[0m\u001b[1;33m)\u001b[0m\u001b[1;33m:\u001b[0m\u001b[1;33m\u001b[0m\u001b[0m\n\u001b[1;32m---> 56\u001b[1;33m         \u001b[0msubprocess\u001b[0m\u001b[1;33m.\u001b[0m\u001b[0mcall\u001b[0m\u001b[1;33m(\u001b[0m\u001b[0mx\u001b[0m\u001b[1;33m,\u001b[0m\u001b[0mshell\u001b[0m\u001b[1;33m=\u001b[0m\u001b[0mTrue\u001b[0m\u001b[1;33m)\u001b[0m\u001b[1;33m\u001b[0m\u001b[0m\n\u001b[0m\u001b[0;32m     57\u001b[0m     \u001b[1;32mdef\u001b[0m \u001b[0mprinter\u001b[0m\u001b[1;33m(\u001b[0m\u001b[0mx\u001b[0m\u001b[1;33m)\u001b[0m\u001b[1;33m:\u001b[0m\u001b[1;33m\u001b[0m\u001b[0m\n\u001b[0;32m     58\u001b[0m         \u001b[1;32mprint\u001b[0m\u001b[1;33m(\u001b[0m\u001b[0mOUTPUT_FRONT\u001b[0m\u001b[1;33m+\u001b[0m\u001b[0mx\u001b[0m\u001b[1;33m)\u001b[0m\u001b[1;33m\u001b[0m\u001b[0m\n",
      "\u001b[1;32m/usr/lib/python2.7/subprocess.pyc\u001b[0m in \u001b[0;36mcall\u001b[1;34m(*popenargs, **kwargs)\u001b[0m\n\u001b[0;32m    491\u001b[0m     \u001b[0mretcode\u001b[0m \u001b[1;33m=\u001b[0m \u001b[0mcall\u001b[0m\u001b[1;33m(\u001b[0m\u001b[1;33m[\u001b[0m\u001b[1;34m\"ls\"\u001b[0m\u001b[1;33m,\u001b[0m \u001b[1;34m\"-l\"\u001b[0m\u001b[1;33m]\u001b[0m\u001b[1;33m)\u001b[0m\u001b[1;33m\u001b[0m\u001b[0m\n\u001b[0;32m    492\u001b[0m     \"\"\"\n\u001b[1;32m--> 493\u001b[1;33m     \u001b[1;32mreturn\u001b[0m \u001b[0mPopen\u001b[0m\u001b[1;33m(\u001b[0m\u001b[1;33m*\u001b[0m\u001b[0mpopenargs\u001b[0m\u001b[1;33m,\u001b[0m \u001b[1;33m**\u001b[0m\u001b[0mkwargs\u001b[0m\u001b[1;33m)\u001b[0m\u001b[1;33m.\u001b[0m\u001b[0mwait\u001b[0m\u001b[1;33m(\u001b[0m\u001b[1;33m)\u001b[0m\u001b[1;33m\u001b[0m\u001b[0m\n\u001b[0m\u001b[0;32m    494\u001b[0m \u001b[1;33m\u001b[0m\u001b[0m\n\u001b[0;32m    495\u001b[0m \u001b[1;33m\u001b[0m\u001b[0m\n",
      "\u001b[1;32m/usr/lib/python2.7/subprocess.pyc\u001b[0m in \u001b[0;36mwait\u001b[1;34m(self)\u001b[0m\n\u001b[0;32m   1289\u001b[0m             \u001b[1;32mif\u001b[0m \u001b[0mself\u001b[0m\u001b[1;33m.\u001b[0m\u001b[0mreturncode\u001b[0m \u001b[1;32mis\u001b[0m \u001b[0mNone\u001b[0m\u001b[1;33m:\u001b[0m\u001b[1;33m\u001b[0m\u001b[0m\n\u001b[0;32m   1290\u001b[0m                 \u001b[1;32mtry\u001b[0m\u001b[1;33m:\u001b[0m\u001b[1;33m\u001b[0m\u001b[0m\n\u001b[1;32m-> 1291\u001b[1;33m                     \u001b[0mpid\u001b[0m\u001b[1;33m,\u001b[0m \u001b[0msts\u001b[0m \u001b[1;33m=\u001b[0m \u001b[0m_eintr_retry_call\u001b[0m\u001b[1;33m(\u001b[0m\u001b[0mos\u001b[0m\u001b[1;33m.\u001b[0m\u001b[0mwaitpid\u001b[0m\u001b[1;33m,\u001b[0m \u001b[0mself\u001b[0m\u001b[1;33m.\u001b[0m\u001b[0mpid\u001b[0m\u001b[1;33m,\u001b[0m \u001b[1;36m0\u001b[0m\u001b[1;33m)\u001b[0m\u001b[1;33m\u001b[0m\u001b[0m\n\u001b[0m\u001b[0;32m   1292\u001b[0m                 \u001b[1;32mexcept\u001b[0m \u001b[0mOSError\u001b[0m \u001b[1;32mas\u001b[0m \u001b[0me\u001b[0m\u001b[1;33m:\u001b[0m\u001b[1;33m\u001b[0m\u001b[0m\n\u001b[0;32m   1293\u001b[0m                     \u001b[1;32mif\u001b[0m \u001b[0me\u001b[0m\u001b[1;33m.\u001b[0m\u001b[0merrno\u001b[0m \u001b[1;33m!=\u001b[0m \u001b[0merrno\u001b[0m\u001b[1;33m.\u001b[0m\u001b[0mECHILD\u001b[0m\u001b[1;33m:\u001b[0m\u001b[1;33m\u001b[0m\u001b[0m\n",
      "\u001b[1;32m/usr/lib/python2.7/subprocess.pyc\u001b[0m in \u001b[0;36m_eintr_retry_call\u001b[1;34m(func, *args)\u001b[0m\n\u001b[0;32m    476\u001b[0m     \u001b[1;32mwhile\u001b[0m \u001b[0mTrue\u001b[0m\u001b[1;33m:\u001b[0m\u001b[1;33m\u001b[0m\u001b[0m\n\u001b[0;32m    477\u001b[0m         \u001b[1;32mtry\u001b[0m\u001b[1;33m:\u001b[0m\u001b[1;33m\u001b[0m\u001b[0m\n\u001b[1;32m--> 478\u001b[1;33m             \u001b[1;32mreturn\u001b[0m \u001b[0mfunc\u001b[0m\u001b[1;33m(\u001b[0m\u001b[1;33m*\u001b[0m\u001b[0margs\u001b[0m\u001b[1;33m)\u001b[0m\u001b[1;33m\u001b[0m\u001b[0m\n\u001b[0m\u001b[0;32m    479\u001b[0m         \u001b[1;32mexcept\u001b[0m \u001b[1;33m(\u001b[0m\u001b[0mOSError\u001b[0m\u001b[1;33m,\u001b[0m \u001b[0mIOError\u001b[0m\u001b[1;33m)\u001b[0m \u001b[1;32mas\u001b[0m \u001b[0me\u001b[0m\u001b[1;33m:\u001b[0m\u001b[1;33m\u001b[0m\u001b[0m\n\u001b[0;32m    480\u001b[0m             \u001b[1;32mif\u001b[0m \u001b[0me\u001b[0m\u001b[1;33m.\u001b[0m\u001b[0merrno\u001b[0m \u001b[1;33m==\u001b[0m \u001b[0merrno\u001b[0m\u001b[1;33m.\u001b[0m\u001b[0mEINTR\u001b[0m\u001b[1;33m:\u001b[0m\u001b[1;33m\u001b[0m\u001b[0m\n",
      "\u001b[1;31mKeyboardInterrupt\u001b[0m: "
     ]
    }
   ],
   "source": [
    "## Testing the whole thing\n",
    "jitterpipe('/nimrod1/eschwab/J1713_data/', 'J1713+0747', 56380, clearoutput=True, cal=True, zap=True, scrunch=True, timing=True, resids=True)"
   ]
  },
  {
   "cell_type": "code",
   "execution_count": 107,
   "metadata": {
    "collapsed": true
   },
   "outputs": [
    {
     "name": "stdout",
     "output_type": "stream",
     "text": [
      "jitterpipe: Running B1937+21 jitterpipe reduction pipeline\n",
      "jitterpipe: Deleting old version\n",
      "jitterpipe: Deletion complete\n",
      "jitterpipe: Generating pulsar calibrators\n",
      "jitterpipe: Generating calibrator database\n",
      "jitterpipe: Calibrating fits files\n",
      "jitterpipe: Calibration complete\n",
      "jitterpipe: Moving calibrated files\n",
      "jitterpipe: Removing RFI (this may take awhile)\n",
      "jitterpipe: Zapping complete\n",
      "jitterpipe: Making 10s-->80s, 256-->8 channel files\n",
      "jitterpipe: Making 256-->8 channel, no tscrunch files\n",
      "jitterpipe: Splitting complete\n",
      "jitterpipe: Producing timing solution\n",
      "jitterpipe: Writing master tim file for 80s subint + 8 channel files\n",
      "jitterpipe: Writing daily tim file for 10s subint + 8 channel files\n",
      "jitterpipe: Writing master tim file for 10s subint + 8 channel files\n",
      "jitterpipe: Timing solution complete\n",
      "jitterpipe: Running tempo\n",
      "jitterpipe: Residuals generated\n",
      "jitterpipe: Generating Plots for specified MJD\n"
     ]
    },
    {
     "ename": "IOError",
     "evalue": "[Errno 2] No such file or directory: 'products/resid_80F8.tmp'",
     "output_type": "error",
     "traceback": [
      "\u001b[1;31m---------------------------------------------------------------------------\u001b[0m",
      "\u001b[1;31mIOError\u001b[0m                                   Traceback (most recent call last)",
      "\u001b[1;32m<ipython-input-107-3f29ccc50afd>\u001b[0m in \u001b[0;36m<module>\u001b[1;34m()\u001b[0m\n\u001b[0;32m      1\u001b[0m \u001b[1;31m## Testing the whole thing\u001b[0m\u001b[1;33m\u001b[0m\u001b[1;33m\u001b[0m\u001b[0m\n\u001b[1;32m----> 2\u001b[1;33m \u001b[0mjitterpipe\u001b[0m\u001b[1;33m(\u001b[0m\u001b[1;34m'/nimrod1/eschwab/B1937_data/'\u001b[0m\u001b[1;33m,\u001b[0m \u001b[1;34m'B1937+21'\u001b[0m\u001b[1;33m,\u001b[0m \u001b[1;36m57376\u001b[0m\u001b[1;33m,\u001b[0m \u001b[0mclearoutput\u001b[0m\u001b[1;33m=\u001b[0m\u001b[0mTrue\u001b[0m\u001b[1;33m,\u001b[0m \u001b[0mcal\u001b[0m\u001b[1;33m=\u001b[0m\u001b[0mTrue\u001b[0m\u001b[1;33m,\u001b[0m \u001b[0mzap\u001b[0m\u001b[1;33m=\u001b[0m\u001b[0mTrue\u001b[0m\u001b[1;33m,\u001b[0m \u001b[0mscrunch\u001b[0m\u001b[1;33m=\u001b[0m\u001b[0mTrue\u001b[0m\u001b[1;33m,\u001b[0m \u001b[0mtiming\u001b[0m\u001b[1;33m=\u001b[0m\u001b[0mTrue\u001b[0m\u001b[1;33m,\u001b[0m \u001b[0mresids\u001b[0m\u001b[1;33m=\u001b[0m\u001b[0mTrue\u001b[0m\u001b[1;33m)\u001b[0m\u001b[1;33m\u001b[0m\u001b[0m\n\u001b[0m",
      "\u001b[1;32m<ipython-input-106-31885995e2a4>\u001b[0m in \u001b[0;36mjitterpipe\u001b[1;34m(dirpath, psrname, MJDint, clearoutput, cal, zap, scrunch, timing, resids)\u001b[0m\n\u001b[0;32m    254\u001b[0m \u001b[1;33m\u001b[0m\u001b[0m\n\u001b[0;32m    255\u001b[0m         \u001b[1;31m#Defining the residuals\u001b[0m\u001b[1;33m\u001b[0m\u001b[1;33m\u001b[0m\u001b[0m\n\u001b[1;32m--> 256\u001b[1;33m         \u001b[0mx\u001b[0m\u001b[1;33m=\u001b[0m\u001b[0mr\u001b[0m\u001b[1;33m.\u001b[0m\u001b[0mread_residuals\u001b[0m\u001b[1;33m(\u001b[0m\u001b[0mfilename\u001b[0m\u001b[1;33m=\u001b[0m\u001b[1;34m\"products/resid_80F8.tmp\"\u001b[0m\u001b[1;33m)\u001b[0m\u001b[1;33m\u001b[0m\u001b[0m\n\u001b[0m\u001b[0;32m    257\u001b[0m \u001b[1;33m\u001b[0m\u001b[0m\n\u001b[0;32m    258\u001b[0m         \u001b[1;31m#Defining the colormap\u001b[0m\u001b[1;33m\u001b[0m\u001b[1;33m\u001b[0m\u001b[0m\n",
      "\u001b[1;32m/usr/local/src/presto/lib/python/residuals.pyc\u001b[0m in \u001b[0;36mread_residuals\u001b[1;34m(filename)\u001b[0m\n\u001b[0;32m     37\u001b[0m     \"\"\"\n\u001b[0;32m     38\u001b[0m     \u001b[0mr\u001b[0m \u001b[1;33m=\u001b[0m \u001b[0mresiduals\u001b[0m\u001b[1;33m(\u001b[0m\u001b[1;33m)\u001b[0m\u001b[1;33m\u001b[0m\u001b[0m\n\u001b[1;32m---> 39\u001b[1;33m     \u001b[0minfile\u001b[0m \u001b[1;33m=\u001b[0m \u001b[0mopen\u001b[0m\u001b[1;33m(\u001b[0m\u001b[0mfilename\u001b[0m\u001b[1;33m,\u001b[0m \u001b[1;34m\"rb\"\u001b[0m\u001b[1;33m)\u001b[0m\u001b[1;33m\u001b[0m\u001b[0m\n\u001b[0m\u001b[0;32m     40\u001b[0m     \u001b[0mswapchar\u001b[0m \u001b[1;33m=\u001b[0m \u001b[1;34m'<'\u001b[0m \u001b[1;31m# this is little-endian (default)\u001b[0m\u001b[1;33m\u001b[0m\u001b[0m\n\u001b[0;32m     41\u001b[0m     \u001b[0mdata\u001b[0m \u001b[1;33m=\u001b[0m \u001b[0minfile\u001b[0m\u001b[1;33m.\u001b[0m\u001b[0mread\u001b[0m\u001b[1;33m(\u001b[0m\u001b[1;36m8\u001b[0m\u001b[1;33m)\u001b[0m\u001b[1;33m\u001b[0m\u001b[0m\n",
      "\u001b[1;31mIOError\u001b[0m: [Errno 2] No such file or directory: 'products/resid_80F8.tmp'"
     ]
    }
   ],
   "source": [
    "## Testing the whole thing\n",
    "jitterpipe('/nimrod1/eschwab/B1937_data/', 'B1937+21', 57376, clearoutput=True, cal=True, zap=True, scrunch=True, timing=True, resids=True)"
   ]
  },
  {
   "cell_type": "code",
   "execution_count": 112,
   "metadata": {
    "collapsed": false
   },
   "outputs": [
    {
     "name": "stdout",
     "output_type": "stream",
     "text": [
      "jitterpipe: Running B1937+21 jitterpipe reduction pipeline\n",
      "jitterpipe: Deleting old version\n",
      "jitterpipe: Deletion complete\n",
      "jitterpipe: Jitterpipe complete\n"
     ]
    }
   ],
   "source": [
    "## Added a bunch of fun new directory items to above, so testing one by one again\n",
    "jitterpipe('/nimrod1/eschwab/B1937_data/', 'B1937+21', 57376, clearoutput=True, cal=False, zap=False, scrunch=False, timing=False, resids=False)"
   ]
  },
  {
   "cell_type": "code",
   "execution_count": 116,
   "metadata": {
    "collapsed": false
   },
   "outputs": [
    {
     "name": "stdout",
     "output_type": "stream",
     "text": [
      "jitterpipe: Running B1937+21 jitterpipe reduction pipeline\n",
      "jitterpipe: Generating pulsar calibrators\n",
      "jitterpipe: Generating calibrator database\n",
      "jitterpipe: Calibrating fits files\n",
      "jitterpipe: Calibration complete\n",
      "jitterpipe: Moving calibrated files\n",
      "jitterpipe: Jitterpipe complete\n"
     ]
    }
   ],
   "source": [
    "## Now testing CALFLAG\n",
    "jitterpipe('/nimrod1/eschwab/B1937_data/', 'B1937+21', 57376, clearoutput=False, cal=True, zap=False, scrunch=False, timing=False, resids=False)"
   ]
  },
  {
   "cell_type": "code",
   "execution_count": 119,
   "metadata": {
    "collapsed": false
   },
   "outputs": [
    {
     "name": "stdout",
     "output_type": "stream",
     "text": [
      "jitterpipe: Running B1937+21 jitterpipe reduction pipeline\n",
      "jitterpipe: Removing RFI (this may take awhile)\n",
      "jitterpipe: Zapping complete\n",
      "jitterpipe: Jitterpipe complete\n"
     ]
    }
   ],
   "source": [
    "## Now testing CALFLAG\n",
    "jitterpipe('/nimrod1/eschwab/B1937_data/', 'B1937+21', 57376, clearoutput=False, cal=False, zap=True, scrunch=False, timing=False, resids=False)"
   ]
  },
  {
   "cell_type": "code",
   "execution_count": 120,
   "metadata": {
    "collapsed": false
   },
   "outputs": [
    {
     "name": "stdout",
     "output_type": "stream",
     "text": [
      "jitterpipe: Running B1937+21 jitterpipe reduction pipeline\n",
      "jitterpipe: Making 10s-->80s, 256-->8 channel files\n",
      "jitterpipe: Making 256-->8 channel, no tscrunch files\n",
      "jitterpipe: Splitting complete\n",
      "jitterpipe: Jitterpipe complete\n"
     ]
    }
   ],
   "source": [
    "## Now testing SPLITFLAG\n",
    "jitterpipe('/nimrod1/eschwab/B1937_data/', 'B1937+21', 57376, clearoutput=False, cal=False, zap=False, scrunch=True, timing=False, resids=False)"
   ]
  },
  {
   "cell_type": "code",
   "execution_count": 135,
   "metadata": {
    "collapsed": false,
    "scrolled": true
   },
   "outputs": [
    {
     "name": "stdout",
     "output_type": "stream",
     "text": [
      "jitterpipe: Running B1937+21 jitterpipe reduction pipeline\n",
      "jitterpipe: Producing timing solution\n",
      "jitterpipe: Writing master tim file for 80s subint + 8 channel files\n",
      "jitterpipe: Writing daily tim file for 10s subint + 8 channel files\n",
      "[56020, 56059, 56108, 56139, 56173, 56209, 56250, 56284, 56305, 56325, 56345, 56383, 56403, 56425, 56446, 56465, 56531, 56532, 56550, 56571, 56572, 56593, 56613, 56634, 56654, 56669, 56739, 56755, 56844, 56869, 56887, 56933, 56970, 57014, 57075, 57095, 57117, 57138, 57185, 57201, 57234, 57242, 57265, 57327, 57348, 57376]\n",
      "jitterpipe: Writing master tim file for 10s subint + 8 channel files\n",
      "jitterpipe: Timing solution complete\n",
      "jitterpipe: Jitterpipe complete\n"
     ]
    }
   ],
   "source": [
    "## Now testing TIMFLAG\n",
    "jitterpipe('/nimrod1/eschwab/B1937_data/', 'B1937+21', 57376, clearoutput=False, cal=False, zap=False, scrunch=False, timing=True, resids=False)"
   ]
  },
  {
   "cell_type": "code",
   "execution_count": 143,
   "metadata": {
    "collapsed": true
   },
   "outputs": [
    {
     "name": "stdout",
     "output_type": "stream",
     "text": [
      "jitterpipe: Running B1937+21 jitterpipe reduction pipeline\n",
      "jitterpipe: Running tempo\n",
      "tempo -G -f /nimrod1/eschwab/B1937_data/B1937+21_NANOGrav_11yv0.par /nimrod1/eschwab/B1937_data/master_B1937+21_NANOGrav_11y_80F8.tim \n",
      "jitterpipe: Jitterpipe complete\n"
     ]
    }
   ],
   "source": [
    "## Now testing TIMFLAG\n",
    "jitterpipe('/nimrod1/eschwab/B1937_data/', 'B1937+21', 57376, clearoutput=False, cal=False, zap=False, scrunch=False, timing=False, resids=True)"
   ]
  },
  {
   "cell_type": "code",
   "execution_count": 144,
   "metadata": {
    "collapsed": true
   },
   "outputs": [
    {
     "name": "stdout",
     "output_type": "stream",
     "text": [
      "jitterpipe: Running J1713+0747 jitterpipe reduction pipeline\n",
      "jitterpipe: Deleting old version\n",
      "jitterpipe: Deletion complete\n",
      "jitterpipe: Generating pulsar calibrators\n",
      "jitterpipe: Generating calibrator database\n",
      "jitterpipe: Calibrating fits files\n",
      "jitterpipe: Calibration complete\n",
      "jitterpipe: Moving calibrated files\n",
      "jitterpipe: Removing RFI (this may take awhile)\n",
      "jitterpipe: Zapping complete\n",
      "jitterpipe: Making 10s-->80s, 256-->8 channel files\n",
      "jitterpipe: Making 256-->8 channel, no tscrunch files\n",
      "jitterpipe: Splitting complete\n",
      "jitterpipe: Producing timing solution\n",
      "jitterpipe: Writing master tim file for 80s subint + 8 channel files\n",
      "jitterpipe: Writing daily tim file for 10s subint + 8 channel files\n",
      "jitterpipe: Writing master tim file for 10s subint + 8 channel files\n",
      "jitterpipe: Timing solution complete\n",
      "jitterpipe: Running tempo\n",
      "tempo -G -f /nimrod1/eschwab/J1713_data/J1713+0747_NANOGrav_11yv0.par /nimrod1/eschwab/J1713_data/master_J1713+0747_NANOGrav_11y_80F8.tim \n",
      "jitterpipe: Jitterpipe complete\n"
     ]
    }
   ],
   "source": [
    "#Since I don't know if the trouble with residflag is pulsar specific, I will run on J1713 all the way through.\n",
    "## Testing the whole thing\n",
    "jitterpipe('/nimrod1/eschwab/J1713_data/', 'J1713+0747', 56380, clearoutput=True, cal=True, zap=True, scrunch=True, timing=True, resids=True)"
   ]
  },
  {
   "cell_type": "code",
   "execution_count": 166,
   "metadata": {
    "collapsed": true
   },
   "outputs": [
    {
     "name": "stdout",
     "output_type": "stream",
     "text": [
      "jitterpipe: Running J1713+0747 jitterpipe reduction pipeline\n",
      "jitterpipe: Running tempo\n",
      "55989\n",
      "tempo -G -f /nimrod1/eschwab/J1713_data/J1713+0747_NANOGrav_11yv0.par /nimrod1/eschwab/J1713_data/55989_J1713+0747_NANOGrav_11y_NTF8.tim\n",
      "55994\n",
      "tempo -G -f /nimrod1/eschwab/J1713_data/J1713+0747_NANOGrav_11yv0.par /nimrod1/eschwab/J1713_data/55994_J1713+0747_NANOGrav_11y_NTF8.tim\n",
      "56023\n",
      "tempo -G -f /nimrod1/eschwab/J1713_data/J1713+0747_NANOGrav_11yv0.par /nimrod1/eschwab/J1713_data/56023_J1713+0747_NANOGrav_11y_NTF8.tim\n",
      "56038\n",
      "tempo -G -f /nimrod1/eschwab/J1713_data/J1713+0747_NANOGrav_11yv0.par /nimrod1/eschwab/J1713_data/56038_J1713+0747_NANOGrav_11y_NTF8.tim\n",
      "56044\n",
      "tempo -G -f /nimrod1/eschwab/J1713_data/J1713+0747_NANOGrav_11yv0.par /nimrod1/eschwab/J1713_data/56044_J1713+0747_NANOGrav_11y_NTF8.tim\n",
      "56057\n",
      "tempo -G -f /nimrod1/eschwab/J1713_data/J1713+0747_NANOGrav_11yv0.par /nimrod1/eschwab/J1713_data/56057_J1713+0747_NANOGrav_11y_NTF8.tim\n",
      "56106\n",
      "tempo -G -f /nimrod1/eschwab/J1713_data/J1713+0747_NANOGrav_11yv0.par /nimrod1/eschwab/J1713_data/56106_J1713+0747_NANOGrav_11y_NTF8.tim\n",
      "56140\n",
      "tempo -G -f /nimrod1/eschwab/J1713_data/J1713+0747_NANOGrav_11yv0.par /nimrod1/eschwab/J1713_data/56140_J1713+0747_NANOGrav_11y_NTF8.tim\n",
      "56165\n",
      "tempo -G -f /nimrod1/eschwab/J1713_data/J1713+0747_NANOGrav_11yv0.par /nimrod1/eschwab/J1713_data/56165_J1713+0747_NANOGrav_11y_NTF8.tim\n",
      "56201\n",
      "tempo -G -f /nimrod1/eschwab/J1713_data/J1713+0747_NANOGrav_11yv0.par /nimrod1/eschwab/J1713_data/56201_J1713+0747_NANOGrav_11y_NTF8.tim\n",
      "56235\n",
      "tempo -G -f /nimrod1/eschwab/J1713_data/J1713+0747_NANOGrav_11yv0.par /nimrod1/eschwab/J1713_data/56235_J1713+0747_NANOGrav_11y_NTF8.tim\n",
      "56241\n",
      "tempo -G -f /nimrod1/eschwab/J1713_data/J1713+0747_NANOGrav_11yv0.par /nimrod1/eschwab/J1713_data/56241_J1713+0747_NANOGrav_11y_NTF8.tim\n",
      "56277\n",
      "tempo -G -f /nimrod1/eschwab/J1713_data/J1713+0747_NANOGrav_11yv0.par /nimrod1/eschwab/J1713_data/56277_J1713+0747_NANOGrav_11y_NTF8.tim\n",
      "56299\n",
      "tempo -G -f /nimrod1/eschwab/J1713_data/J1713+0747_NANOGrav_11yv0.par /nimrod1/eschwab/J1713_data/56299_J1713+0747_NANOGrav_11y_NTF8.tim\n",
      "56319\n",
      "tempo -G -f /nimrod1/eschwab/J1713_data/J1713+0747_NANOGrav_11yv0.par /nimrod1/eschwab/J1713_data/56319_J1713+0747_NANOGrav_11y_NTF8.tim\n",
      "56341\n",
      "tempo -G -f /nimrod1/eschwab/J1713_data/J1713+0747_NANOGrav_11yv0.par /nimrod1/eschwab/J1713_data/56341_J1713+0747_NANOGrav_11y_NTF8.tim\n",
      "56360\n",
      "tempo -G -f /nimrod1/eschwab/J1713_data/J1713+0747_NANOGrav_11yv0.par /nimrod1/eschwab/J1713_data/56360_J1713+0747_NANOGrav_11y_NTF8.tim\n",
      "56380\n",
      "tempo -G -f /nimrod1/eschwab/J1713_data/J1713+0747_NANOGrav_11yv0.par /nimrod1/eschwab/J1713_data/56380_J1713+0747_NANOGrav_11y_NTF8.tim\n",
      "56399\n",
      "tempo -G -f /nimrod1/eschwab/J1713_data/J1713+0747_NANOGrav_11yv0.par /nimrod1/eschwab/J1713_data/56399_J1713+0747_NANOGrav_11y_NTF8.tim\n",
      "56417\n",
      "tempo -G -f /nimrod1/eschwab/J1713_data/J1713+0747_NANOGrav_11yv0.par /nimrod1/eschwab/J1713_data/56417_J1713+0747_NANOGrav_11y_NTF8.tim\n",
      "56438\n",
      "tempo -G -f /nimrod1/eschwab/J1713_data/J1713+0747_NANOGrav_11yv0.par /nimrod1/eschwab/J1713_data/56438_J1713+0747_NANOGrav_11y_NTF8.tim\n",
      "56447\n",
      "tempo -G -f /nimrod1/eschwab/J1713_data/J1713+0747_NANOGrav_11yv0.par /nimrod1/eschwab/J1713_data/56447_J1713+0747_NANOGrav_11y_NTF8.tim\n",
      "56458\n",
      "tempo -G -f /nimrod1/eschwab/J1713_data/J1713+0747_NANOGrav_11yv0.par /nimrod1/eschwab/J1713_data/56458_J1713+0747_NANOGrav_11y_NTF8.tim\n",
      "56479\n",
      "tempo -G -f /nimrod1/eschwab/J1713_data/J1713+0747_NANOGrav_11yv0.par /nimrod1/eschwab/J1713_data/56479_J1713+0747_NANOGrav_11y_NTF8.tim\n",
      "56519\n",
      "tempo -G -f /nimrod1/eschwab/J1713_data/J1713+0747_NANOGrav_11yv0.par /nimrod1/eschwab/J1713_data/56519_J1713+0747_NANOGrav_11y_NTF8.tim\n",
      "56537\n",
      "tempo -G -f /nimrod1/eschwab/J1713_data/J1713+0747_NANOGrav_11yv0.par /nimrod1/eschwab/J1713_data/56537_J1713+0747_NANOGrav_11y_NTF8.tim\n",
      "56557\n",
      "tempo -G -f /nimrod1/eschwab/J1713_data/J1713+0747_NANOGrav_11yv0.par /nimrod1/eschwab/J1713_data/56557_J1713+0747_NANOGrav_11y_NTF8.tim\n",
      "56577\n",
      "tempo -G -f /nimrod1/eschwab/J1713_data/J1713+0747_NANOGrav_11yv0.par /nimrod1/eschwab/J1713_data/56577_J1713+0747_NANOGrav_11y_NTF8.tim\n",
      "56598\n",
      "tempo -G -f /nimrod1/eschwab/J1713_data/J1713+0747_NANOGrav_11yv0.par /nimrod1/eschwab/J1713_data/56598_J1713+0747_NANOGrav_11y_NTF8.tim\n",
      "56619\n",
      "tempo -G -f /nimrod1/eschwab/J1713_data/J1713+0747_NANOGrav_11yv0.par /nimrod1/eschwab/J1713_data/56619_J1713+0747_NANOGrav_11y_NTF8.tim\n",
      "56640\n",
      "tempo -G -f /nimrod1/eschwab/J1713_data/J1713+0747_NANOGrav_11yv0.par /nimrod1/eschwab/J1713_data/56640_J1713+0747_NANOGrav_11y_NTF8.tim\n",
      "56662\n",
      "tempo -G -f /nimrod1/eschwab/J1713_data/J1713+0747_NANOGrav_11yv0.par /nimrod1/eschwab/J1713_data/56662_J1713+0747_NANOGrav_11y_NTF8.tim\n",
      "56738\n",
      "tempo -G -f /nimrod1/eschwab/J1713_data/J1713+0747_NANOGrav_11yv0.par /nimrod1/eschwab/J1713_data/56738_J1713+0747_NANOGrav_11y_NTF8.tim\n",
      "56853\n",
      "tempo -G -f /nimrod1/eschwab/J1713_data/J1713+0747_NANOGrav_11yv0.par /nimrod1/eschwab/J1713_data/56853_J1713+0747_NANOGrav_11y_NTF8.tim\n",
      "56934\n",
      "tempo -G -f /nimrod1/eschwab/J1713_data/J1713+0747_NANOGrav_11yv0.par /nimrod1/eschwab/J1713_data/56934_J1713+0747_NANOGrav_11y_NTF8.tim\n",
      "56955\n",
      "tempo -G -f /nimrod1/eschwab/J1713_data/J1713+0747_NANOGrav_11yv0.par /nimrod1/eschwab/J1713_data/56955_J1713+0747_NANOGrav_11y_NTF8.tim\n",
      "56977\n",
      "tempo -G -f /nimrod1/eschwab/J1713_data/J1713+0747_NANOGrav_11yv0.par /nimrod1/eschwab/J1713_data/56977_J1713+0747_NANOGrav_11y_NTF8.tim\n",
      "56998\n",
      "tempo -G -f /nimrod1/eschwab/J1713_data/J1713+0747_NANOGrav_11yv0.par /nimrod1/eschwab/J1713_data/56998_J1713+0747_NANOGrav_11y_NTF8.tim\n",
      "57018\n",
      "tempo -G -f /nimrod1/eschwab/J1713_data/J1713+0747_NANOGrav_11yv0.par /nimrod1/eschwab/J1713_data/57018_J1713+0747_NANOGrav_11y_NTF8.tim\n",
      "57024\n",
      "tempo -G -f /nimrod1/eschwab/J1713_data/J1713+0747_NANOGrav_11yv0.par /nimrod1/eschwab/J1713_data/57024_J1713+0747_NANOGrav_11y_NTF8.tim\n",
      "57028\n",
      "tempo -G -f /nimrod1/eschwab/J1713_data/J1713+0747_NANOGrav_11yv0.par /nimrod1/eschwab/J1713_data/57028_J1713+0747_NANOGrav_11y_NTF8.tim\n",
      "57032\n",
      "tempo -G -f /nimrod1/eschwab/J1713_data/J1713+0747_NANOGrav_11yv0.par /nimrod1/eschwab/J1713_data/57032_J1713+0747_NANOGrav_11y_NTF8.tim\n",
      "57033\n",
      "tempo -G -f /nimrod1/eschwab/J1713_data/J1713+0747_NANOGrav_11yv0.par /nimrod1/eschwab/J1713_data/57033_J1713+0747_NANOGrav_11y_NTF8.tim\n",
      "57041\n",
      "tempo -G -f /nimrod1/eschwab/J1713_data/J1713+0747_NANOGrav_11yv0.par /nimrod1/eschwab/J1713_data/57041_J1713+0747_NANOGrav_11y_NTF8.tim\n",
      "57049\n",
      "tempo -G -f /nimrod1/eschwab/J1713_data/J1713+0747_NANOGrav_11yv0.par /nimrod1/eschwab/J1713_data/57049_J1713+0747_NANOGrav_11y_NTF8.tim\n",
      "57053\n",
      "tempo -G -f /nimrod1/eschwab/J1713_data/J1713+0747_NANOGrav_11yv0.par /nimrod1/eschwab/J1713_data/57053_J1713+0747_NANOGrav_11y_NTF8.tim\n",
      "57068\n",
      "tempo -G -f /nimrod1/eschwab/J1713_data/J1713+0747_NANOGrav_11yv0.par /nimrod1/eschwab/J1713_data/57068_J1713+0747_NANOGrav_11y_NTF8.tim\n",
      "57069\n",
      "tempo -G -f /nimrod1/eschwab/J1713_data/J1713+0747_NANOGrav_11yv0.par /nimrod1/eschwab/J1713_data/57069_J1713+0747_NANOGrav_11y_NTF8.tim\n",
      "57076\n",
      "tempo -G -f /nimrod1/eschwab/J1713_data/J1713+0747_NANOGrav_11yv0.par /nimrod1/eschwab/J1713_data/57076_J1713+0747_NANOGrav_11y_NTF8.tim\n",
      "57083\n",
      "tempo -G -f /nimrod1/eschwab/J1713_data/J1713+0747_NANOGrav_11yv0.par /nimrod1/eschwab/J1713_data/57083_J1713+0747_NANOGrav_11y_NTF8.tim\n",
      "57090\n",
      "tempo -G -f /nimrod1/eschwab/J1713_data/J1713+0747_NANOGrav_11yv0.par /nimrod1/eschwab/J1713_data/57090_J1713+0747_NANOGrav_11y_NTF8.tim\n",
      "57096\n",
      "tempo -G -f /nimrod1/eschwab/J1713_data/J1713+0747_NANOGrav_11yv0.par /nimrod1/eschwab/J1713_data/57096_J1713+0747_NANOGrav_11y_NTF8.tim\n",
      "57097\n",
      "tempo -G -f /nimrod1/eschwab/J1713_data/J1713+0747_NANOGrav_11yv0.par /nimrod1/eschwab/J1713_data/57097_J1713+0747_NANOGrav_11y_NTF8.tim\n",
      "57108\n",
      "tempo -G -f /nimrod1/eschwab/J1713_data/J1713+0747_NANOGrav_11yv0.par /nimrod1/eschwab/J1713_data/57108_J1713+0747_NANOGrav_11y_NTF8.tim\n",
      "57112\n",
      "tempo -G -f /nimrod1/eschwab/J1713_data/J1713+0747_NANOGrav_11yv0.par /nimrod1/eschwab/J1713_data/57112_J1713+0747_NANOGrav_11y_NTF8.tim\n",
      "57116\n",
      "tempo -G -f /nimrod1/eschwab/J1713_data/J1713+0747_NANOGrav_11yv0.par /nimrod1/eschwab/J1713_data/57116_J1713+0747_NANOGrav_11y_NTF8.tim\n",
      "57118\n",
      "tempo -G -f /nimrod1/eschwab/J1713_data/J1713+0747_NANOGrav_11yv0.par /nimrod1/eschwab/J1713_data/57118_J1713+0747_NANOGrav_11y_NTF8.tim\n",
      "57126\n",
      "tempo -G -f /nimrod1/eschwab/J1713_data/J1713+0747_NANOGrav_11yv0.par /nimrod1/eschwab/J1713_data/57126_J1713+0747_NANOGrav_11y_NTF8.tim\n",
      "57133\n",
      "tempo -G -f /nimrod1/eschwab/J1713_data/J1713+0747_NANOGrav_11yv0.par /nimrod1/eschwab/J1713_data/57133_J1713+0747_NANOGrav_11y_NTF8.tim\n",
      "57137\n",
      "tempo -G -f /nimrod1/eschwab/J1713_data/J1713+0747_NANOGrav_11yv0.par /nimrod1/eschwab/J1713_data/57137_J1713+0747_NANOGrav_11y_NTF8.tim\n",
      "57139\n",
      "tempo -G -f /nimrod1/eschwab/J1713_data/J1713+0747_NANOGrav_11yv0.par /nimrod1/eschwab/J1713_data/57139_J1713+0747_NANOGrav_11y_NTF8.tim\n",
      "57147\n",
      "tempo -G -f /nimrod1/eschwab/J1713_data/J1713+0747_NANOGrav_11yv0.par /nimrod1/eschwab/J1713_data/57147_J1713+0747_NANOGrav_11y_NTF8.tim\n",
      "57186\n",
      "tempo -G -f /nimrod1/eschwab/J1713_data/J1713+0747_NANOGrav_11yv0.par /nimrod1/eschwab/J1713_data/57186_J1713+0747_NANOGrav_11y_NTF8.tim\n",
      "57189\n",
      "tempo -G -f /nimrod1/eschwab/J1713_data/J1713+0747_NANOGrav_11yv0.par /nimrod1/eschwab/J1713_data/57189_J1713+0747_NANOGrav_11y_NTF8.tim\n",
      "57200\n",
      "tempo -G -f /nimrod1/eschwab/J1713_data/J1713+0747_NANOGrav_11yv0.par /nimrod1/eschwab/J1713_data/57200_J1713+0747_NANOGrav_11y_NTF8.tim\n",
      "57205\n",
      "tempo -G -f /nimrod1/eschwab/J1713_data/J1713+0747_NANOGrav_11yv0.par /nimrod1/eschwab/J1713_data/57205_J1713+0747_NANOGrav_11y_NTF8.tim\n",
      "57222\n",
      "tempo -G -f /nimrod1/eschwab/J1713_data/J1713+0747_NANOGrav_11yv0.par /nimrod1/eschwab/J1713_data/57222_J1713+0747_NANOGrav_11y_NTF8.tim\n",
      "57223\n",
      "tempo -G -f /nimrod1/eschwab/J1713_data/J1713+0747_NANOGrav_11yv0.par /nimrod1/eschwab/J1713_data/57223_J1713+0747_NANOGrav_11y_NTF8.tim\n",
      "57233\n",
      "tempo -G -f /nimrod1/eschwab/J1713_data/J1713+0747_NANOGrav_11yv0.par /nimrod1/eschwab/J1713_data/57233_J1713+0747_NANOGrav_11y_NTF8.tim\n",
      "57235\n",
      "tempo -G -f /nimrod1/eschwab/J1713_data/J1713+0747_NANOGrav_11yv0.par /nimrod1/eschwab/J1713_data/57235_J1713+0747_NANOGrav_11y_NTF8.tim\n",
      "57239\n",
      "tempo -G -f /nimrod1/eschwab/J1713_data/J1713+0747_NANOGrav_11yv0.par /nimrod1/eschwab/J1713_data/57239_J1713+0747_NANOGrav_11y_NTF8.tim\n",
      "57240\n",
      "tempo -G -f /nimrod1/eschwab/J1713_data/J1713+0747_NANOGrav_11yv0.par /nimrod1/eschwab/J1713_data/57240_J1713+0747_NANOGrav_11y_NTF8.tim\n",
      "57243\n",
      "tempo -G -f /nimrod1/eschwab/J1713_data/J1713+0747_NANOGrav_11yv0.par /nimrod1/eschwab/J1713_data/57243_J1713+0747_NANOGrav_11y_NTF8.tim\n",
      "57249\n",
      "tempo -G -f /nimrod1/eschwab/J1713_data/J1713+0747_NANOGrav_11yv0.par /nimrod1/eschwab/J1713_data/57249_J1713+0747_NANOGrav_11y_NTF8.tim\n",
      "57257\n",
      "tempo -G -f /nimrod1/eschwab/J1713_data/J1713+0747_NANOGrav_11yv0.par /nimrod1/eschwab/J1713_data/57257_J1713+0747_NANOGrav_11y_NTF8.tim\n",
      "57258\n",
      "tempo -G -f /nimrod1/eschwab/J1713_data/J1713+0747_NANOGrav_11yv0.par /nimrod1/eschwab/J1713_data/57258_J1713+0747_NANOGrav_11y_NTF8.tim\n",
      "57263\n",
      "tempo -G -f /nimrod1/eschwab/J1713_data/J1713+0747_NANOGrav_11yv0.par /nimrod1/eschwab/J1713_data/57263_J1713+0747_NANOGrav_11y_NTF8.tim\n",
      "57265\n",
      "tempo -G -f /nimrod1/eschwab/J1713_data/J1713+0747_NANOGrav_11yv0.par /nimrod1/eschwab/J1713_data/57265_J1713+0747_NANOGrav_11y_NTF8.tim\n",
      "57291\n",
      "tempo -G -f /nimrod1/eschwab/J1713_data/J1713+0747_NANOGrav_11yv0.par /nimrod1/eschwab/J1713_data/57291_J1713+0747_NANOGrav_11y_NTF8.tim\n",
      "57295\n",
      "tempo -G -f /nimrod1/eschwab/J1713_data/J1713+0747_NANOGrav_11yv0.par /nimrod1/eschwab/J1713_data/57295_J1713+0747_NANOGrav_11y_NTF8.tim\n",
      "57302\n",
      "tempo -G -f /nimrod1/eschwab/J1713_data/J1713+0747_NANOGrav_11yv0.par /nimrod1/eschwab/J1713_data/57302_J1713+0747_NANOGrav_11y_NTF8.tim\n",
      "57305\n",
      "tempo -G -f /nimrod1/eschwab/J1713_data/J1713+0747_NANOGrav_11yv0.par /nimrod1/eschwab/J1713_data/57305_J1713+0747_NANOGrav_11y_NTF8.tim\n",
      "57311\n",
      "tempo -G -f /nimrod1/eschwab/J1713_data/J1713+0747_NANOGrav_11yv0.par /nimrod1/eschwab/J1713_data/57311_J1713+0747_NANOGrav_11y_NTF8.tim\n",
      "57319\n",
      "tempo -G -f /nimrod1/eschwab/J1713_data/J1713+0747_NANOGrav_11yv0.par /nimrod1/eschwab/J1713_data/57319_J1713+0747_NANOGrav_11y_NTF8.tim\n",
      "57326\n",
      "tempo -G -f /nimrod1/eschwab/J1713_data/J1713+0747_NANOGrav_11yv0.par /nimrod1/eschwab/J1713_data/57326_J1713+0747_NANOGrav_11y_NTF8.tim\n",
      "57330\n",
      "tempo -G -f /nimrod1/eschwab/J1713_data/J1713+0747_NANOGrav_11yv0.par /nimrod1/eschwab/J1713_data/57330_J1713+0747_NANOGrav_11y_NTF8.tim\n",
      "57333\n",
      "tempo -G -f /nimrod1/eschwab/J1713_data/J1713+0747_NANOGrav_11yv0.par /nimrod1/eschwab/J1713_data/57333_J1713+0747_NANOGrav_11y_NTF8.tim\n",
      "57347\n",
      "tempo -G -f /nimrod1/eschwab/J1713_data/J1713+0747_NANOGrav_11yv0.par /nimrod1/eschwab/J1713_data/57347_J1713+0747_NANOGrav_11y_NTF8.tim\n",
      "57348\n",
      "tempo -G -f /nimrod1/eschwab/J1713_data/J1713+0747_NANOGrav_11yv0.par /nimrod1/eschwab/J1713_data/57348_J1713+0747_NANOGrav_11y_NTF8.tim\n",
      "57355\n",
      "tempo -G -f /nimrod1/eschwab/J1713_data/J1713+0747_NANOGrav_11yv0.par /nimrod1/eschwab/J1713_data/57355_J1713+0747_NANOGrav_11y_NTF8.tim\n",
      "57362\n",
      "tempo -G -f /nimrod1/eschwab/J1713_data/J1713+0747_NANOGrav_11yv0.par /nimrod1/eschwab/J1713_data/57362_J1713+0747_NANOGrav_11y_NTF8.tim\n",
      "57375\n",
      "tempo -G -f /nimrod1/eschwab/J1713_data/J1713+0747_NANOGrav_11yv0.par /nimrod1/eschwab/J1713_data/57375_J1713+0747_NANOGrav_11y_NTF8.tim\n",
      "57376\n",
      "tempo -G -f /nimrod1/eschwab/J1713_data/J1713+0747_NANOGrav_11yv0.par /nimrod1/eschwab/J1713_data/57376_J1713+0747_NANOGrav_11y_NTF8.tim\n",
      "57387\n",
      "tempo -G -f /nimrod1/eschwab/J1713_data/J1713+0747_NANOGrav_11yv0.par /nimrod1/eschwab/J1713_data/57387_J1713+0747_NANOGrav_11y_NTF8.tim\n",
      "jitterpipe: Residuals generated\n",
      "jitterpipe: Jitterpipe complete\n"
     ]
    }
   ],
   "source": [
    "jitterpipe('/nimrod1/eschwab/J1713_data/', 'J1713+0747', 56380, clearoutput=False, cal=False, zap=False, scrunch=False, timing=False, resids=True)"
   ]
  },
  {
   "cell_type": "code",
   "execution_count": 168,
   "metadata": {
    "collapsed": true
   },
   "outputs": [
    {
     "name": "stdout",
     "output_type": "stream",
     "text": [
      "jitterpipe: Running B1937+21 jitterpipe reduction pipeline\n",
      "jitterpipe: Deleting old version\n",
      "jitterpipe: Deletion complete\n",
      "jitterpipe: Generating pulsar calibrators\n",
      "jitterpipe: Generating calibrator database\n",
      "jitterpipe: Calibrating fits files\n",
      "jitterpipe: Calibration complete\n",
      "jitterpipe: Moving calibrated files\n",
      "jitterpipe: Removing RFI (this may take awhile)\n",
      "jitterpipe: Zapping complete\n",
      "jitterpipe: Making 10s-->80s, 256-->8 channel files\n",
      "jitterpipe: Making 256-->8 channel, no tscrunch files\n",
      "jitterpipe: Splitting complete\n",
      "jitterpipe: Writing daily tim file for 10s subint + 8 channel files\n",
      "jitterpipe: Running tempo\n",
      "56020\n",
      "tempo -G -f /nimrod1/eschwab/B1937_data/B1937+21_NANOGrav_11yv0.par /nimrod1/eschwab/B1937_data/56020_B1937+21_NANOGrav_11y_NTF8.tim\n",
      "56059\n",
      "tempo -G -f /nimrod1/eschwab/B1937_data/B1937+21_NANOGrav_11yv0.par /nimrod1/eschwab/B1937_data/56059_B1937+21_NANOGrav_11y_NTF8.tim\n",
      "56108\n",
      "tempo -G -f /nimrod1/eschwab/B1937_data/B1937+21_NANOGrav_11yv0.par /nimrod1/eschwab/B1937_data/56108_B1937+21_NANOGrav_11y_NTF8.tim\n",
      "56139\n",
      "tempo -G -f /nimrod1/eschwab/B1937_data/B1937+21_NANOGrav_11yv0.par /nimrod1/eschwab/B1937_data/56139_B1937+21_NANOGrav_11y_NTF8.tim\n",
      "56173\n",
      "tempo -G -f /nimrod1/eschwab/B1937_data/B1937+21_NANOGrav_11yv0.par /nimrod1/eschwab/B1937_data/56173_B1937+21_NANOGrav_11y_NTF8.tim\n",
      "56209\n",
      "tempo -G -f /nimrod1/eschwab/B1937_data/B1937+21_NANOGrav_11yv0.par /nimrod1/eschwab/B1937_data/56209_B1937+21_NANOGrav_11y_NTF8.tim\n",
      "56250\n",
      "tempo -G -f /nimrod1/eschwab/B1937_data/B1937+21_NANOGrav_11yv0.par /nimrod1/eschwab/B1937_data/56250_B1937+21_NANOGrav_11y_NTF8.tim\n",
      "56284\n",
      "tempo -G -f /nimrod1/eschwab/B1937_data/B1937+21_NANOGrav_11yv0.par /nimrod1/eschwab/B1937_data/56284_B1937+21_NANOGrav_11y_NTF8.tim\n",
      "56305\n",
      "tempo -G -f /nimrod1/eschwab/B1937_data/B1937+21_NANOGrav_11yv0.par /nimrod1/eschwab/B1937_data/56305_B1937+21_NANOGrav_11y_NTF8.tim\n",
      "56325\n",
      "tempo -G -f /nimrod1/eschwab/B1937_data/B1937+21_NANOGrav_11yv0.par /nimrod1/eschwab/B1937_data/56325_B1937+21_NANOGrav_11y_NTF8.tim\n",
      "56345\n",
      "tempo -G -f /nimrod1/eschwab/B1937_data/B1937+21_NANOGrav_11yv0.par /nimrod1/eschwab/B1937_data/56345_B1937+21_NANOGrav_11y_NTF8.tim\n",
      "56383\n",
      "tempo -G -f /nimrod1/eschwab/B1937_data/B1937+21_NANOGrav_11yv0.par /nimrod1/eschwab/B1937_data/56383_B1937+21_NANOGrav_11y_NTF8.tim\n",
      "56403\n",
      "tempo -G -f /nimrod1/eschwab/B1937_data/B1937+21_NANOGrav_11yv0.par /nimrod1/eschwab/B1937_data/56403_B1937+21_NANOGrav_11y_NTF8.tim\n",
      "56425\n",
      "tempo -G -f /nimrod1/eschwab/B1937_data/B1937+21_NANOGrav_11yv0.par /nimrod1/eschwab/B1937_data/56425_B1937+21_NANOGrav_11y_NTF8.tim\n",
      "56446\n",
      "tempo -G -f /nimrod1/eschwab/B1937_data/B1937+21_NANOGrav_11yv0.par /nimrod1/eschwab/B1937_data/56446_B1937+21_NANOGrav_11y_NTF8.tim\n",
      "56465\n",
      "tempo -G -f /nimrod1/eschwab/B1937_data/B1937+21_NANOGrav_11yv0.par /nimrod1/eschwab/B1937_data/56465_B1937+21_NANOGrav_11y_NTF8.tim\n",
      "56531\n",
      "tempo -G -f /nimrod1/eschwab/B1937_data/B1937+21_NANOGrav_11yv0.par /nimrod1/eschwab/B1937_data/56531_B1937+21_NANOGrav_11y_NTF8.tim\n",
      "56532\n",
      "tempo -G -f /nimrod1/eschwab/B1937_data/B1937+21_NANOGrav_11yv0.par /nimrod1/eschwab/B1937_data/56532_B1937+21_NANOGrav_11y_NTF8.tim\n",
      "56550\n",
      "tempo -G -f /nimrod1/eschwab/B1937_data/B1937+21_NANOGrav_11yv0.par /nimrod1/eschwab/B1937_data/56550_B1937+21_NANOGrav_11y_NTF8.tim\n",
      "56571\n",
      "tempo -G -f /nimrod1/eschwab/B1937_data/B1937+21_NANOGrav_11yv0.par /nimrod1/eschwab/B1937_data/56571_B1937+21_NANOGrav_11y_NTF8.tim\n",
      "56572\n",
      "tempo -G -f /nimrod1/eschwab/B1937_data/B1937+21_NANOGrav_11yv0.par /nimrod1/eschwab/B1937_data/56572_B1937+21_NANOGrav_11y_NTF8.tim\n",
      "56593\n",
      "tempo -G -f /nimrod1/eschwab/B1937_data/B1937+21_NANOGrav_11yv0.par /nimrod1/eschwab/B1937_data/56593_B1937+21_NANOGrav_11y_NTF8.tim\n",
      "56613\n",
      "tempo -G -f /nimrod1/eschwab/B1937_data/B1937+21_NANOGrav_11yv0.par /nimrod1/eschwab/B1937_data/56613_B1937+21_NANOGrav_11y_NTF8.tim\n",
      "56634\n",
      "tempo -G -f /nimrod1/eschwab/B1937_data/B1937+21_NANOGrav_11yv0.par /nimrod1/eschwab/B1937_data/56634_B1937+21_NANOGrav_11y_NTF8.tim\n",
      "56654\n",
      "tempo -G -f /nimrod1/eschwab/B1937_data/B1937+21_NANOGrav_11yv0.par /nimrod1/eschwab/B1937_data/56654_B1937+21_NANOGrav_11y_NTF8.tim\n",
      "56669\n",
      "tempo -G -f /nimrod1/eschwab/B1937_data/B1937+21_NANOGrav_11yv0.par /nimrod1/eschwab/B1937_data/56669_B1937+21_NANOGrav_11y_NTF8.tim\n",
      "56739\n",
      "tempo -G -f /nimrod1/eschwab/B1937_data/B1937+21_NANOGrav_11yv0.par /nimrod1/eschwab/B1937_data/56739_B1937+21_NANOGrav_11y_NTF8.tim\n",
      "56755\n",
      "tempo -G -f /nimrod1/eschwab/B1937_data/B1937+21_NANOGrav_11yv0.par /nimrod1/eschwab/B1937_data/56755_B1937+21_NANOGrav_11y_NTF8.tim\n",
      "56844\n",
      "tempo -G -f /nimrod1/eschwab/B1937_data/B1937+21_NANOGrav_11yv0.par /nimrod1/eschwab/B1937_data/56844_B1937+21_NANOGrav_11y_NTF8.tim\n",
      "56869\n",
      "tempo -G -f /nimrod1/eschwab/B1937_data/B1937+21_NANOGrav_11yv0.par /nimrod1/eschwab/B1937_data/56869_B1937+21_NANOGrav_11y_NTF8.tim\n",
      "56887\n",
      "tempo -G -f /nimrod1/eschwab/B1937_data/B1937+21_NANOGrav_11yv0.par /nimrod1/eschwab/B1937_data/56887_B1937+21_NANOGrav_11y_NTF8.tim\n",
      "56933\n",
      "tempo -G -f /nimrod1/eschwab/B1937_data/B1937+21_NANOGrav_11yv0.par /nimrod1/eschwab/B1937_data/56933_B1937+21_NANOGrav_11y_NTF8.tim\n",
      "56970\n",
      "tempo -G -f /nimrod1/eschwab/B1937_data/B1937+21_NANOGrav_11yv0.par /nimrod1/eschwab/B1937_data/56970_B1937+21_NANOGrav_11y_NTF8.tim\n",
      "57014\n",
      "tempo -G -f /nimrod1/eschwab/B1937_data/B1937+21_NANOGrav_11yv0.par /nimrod1/eschwab/B1937_data/57014_B1937+21_NANOGrav_11y_NTF8.tim\n",
      "57075\n",
      "tempo -G -f /nimrod1/eschwab/B1937_data/B1937+21_NANOGrav_11yv0.par /nimrod1/eschwab/B1937_data/57075_B1937+21_NANOGrav_11y_NTF8.tim\n",
      "57095\n",
      "tempo -G -f /nimrod1/eschwab/B1937_data/B1937+21_NANOGrav_11yv0.par /nimrod1/eschwab/B1937_data/57095_B1937+21_NANOGrav_11y_NTF8.tim\n",
      "57117\n",
      "tempo -G -f /nimrod1/eschwab/B1937_data/B1937+21_NANOGrav_11yv0.par /nimrod1/eschwab/B1937_data/57117_B1937+21_NANOGrav_11y_NTF8.tim\n",
      "57138\n",
      "tempo -G -f /nimrod1/eschwab/B1937_data/B1937+21_NANOGrav_11yv0.par /nimrod1/eschwab/B1937_data/57138_B1937+21_NANOGrav_11y_NTF8.tim\n",
      "57185\n",
      "tempo -G -f /nimrod1/eschwab/B1937_data/B1937+21_NANOGrav_11yv0.par /nimrod1/eschwab/B1937_data/57185_B1937+21_NANOGrav_11y_NTF8.tim\n",
      "57201\n",
      "tempo -G -f /nimrod1/eschwab/B1937_data/B1937+21_NANOGrav_11yv0.par /nimrod1/eschwab/B1937_data/57201_B1937+21_NANOGrav_11y_NTF8.tim\n",
      "57234\n",
      "tempo -G -f /nimrod1/eschwab/B1937_data/B1937+21_NANOGrav_11yv0.par /nimrod1/eschwab/B1937_data/57234_B1937+21_NANOGrav_11y_NTF8.tim\n",
      "57242\n",
      "tempo -G -f /nimrod1/eschwab/B1937_data/B1937+21_NANOGrav_11yv0.par /nimrod1/eschwab/B1937_data/57242_B1937+21_NANOGrav_11y_NTF8.tim\n",
      "57265\n",
      "tempo -G -f /nimrod1/eschwab/B1937_data/B1937+21_NANOGrav_11yv0.par /nimrod1/eschwab/B1937_data/57265_B1937+21_NANOGrav_11y_NTF8.tim\n",
      "57327\n",
      "tempo -G -f /nimrod1/eschwab/B1937_data/B1937+21_NANOGrav_11yv0.par /nimrod1/eschwab/B1937_data/57327_B1937+21_NANOGrav_11y_NTF8.tim\n",
      "57348\n",
      "tempo -G -f /nimrod1/eschwab/B1937_data/B1937+21_NANOGrav_11yv0.par /nimrod1/eschwab/B1937_data/57348_B1937+21_NANOGrav_11y_NTF8.tim\n",
      "57376\n",
      "tempo -G -f /nimrod1/eschwab/B1937_data/B1937+21_NANOGrav_11yv0.par /nimrod1/eschwab/B1937_data/57376_B1937+21_NANOGrav_11y_NTF8.tim\n",
      "jitterpipe: Residuals generated\n",
      "jitterpipe: Generating Plots for specified MJD\n"
     ]
    },
    {
     "ename": "IOError",
     "evalue": "[Errno 2] No such file or directory: '/nimrod1/eschwab/B1937_data/products/resid_80F8.tmp'",
     "output_type": "error",
     "traceback": [
      "\u001b[1;31m---------------------------------------------------------------------------\u001b[0m",
      "\u001b[1;31mIOError\u001b[0m                                   Traceback (most recent call last)",
      "\u001b[1;32m<ipython-input-168-078de9a7c9f6>\u001b[0m in \u001b[0;36m<module>\u001b[1;34m()\u001b[0m\n\u001b[0;32m      1\u001b[0m \u001b[1;31m#Trying B1937 again\u001b[0m\u001b[1;33m\u001b[0m\u001b[1;33m\u001b[0m\u001b[0m\n\u001b[1;32m----> 2\u001b[1;33m \u001b[0mjitterpipe\u001b[0m\u001b[1;33m(\u001b[0m\u001b[1;34m'/nimrod1/eschwab/B1937_data/'\u001b[0m\u001b[1;33m,\u001b[0m \u001b[1;34m'B1937+21'\u001b[0m\u001b[1;33m,\u001b[0m \u001b[1;36m57376\u001b[0m\u001b[1;33m,\u001b[0m \u001b[0mclearoutput\u001b[0m\u001b[1;33m=\u001b[0m\u001b[0mTrue\u001b[0m\u001b[1;33m,\u001b[0m \u001b[0mcal\u001b[0m\u001b[1;33m=\u001b[0m\u001b[0mTrue\u001b[0m\u001b[1;33m,\u001b[0m \u001b[0mzap\u001b[0m\u001b[1;33m=\u001b[0m\u001b[0mTrue\u001b[0m\u001b[1;33m,\u001b[0m \u001b[0mscrunch\u001b[0m\u001b[1;33m=\u001b[0m\u001b[0mTrue\u001b[0m\u001b[1;33m,\u001b[0m \u001b[0mtiming\u001b[0m\u001b[1;33m=\u001b[0m\u001b[0mTrue\u001b[0m\u001b[1;33m,\u001b[0m \u001b[0mresids\u001b[0m\u001b[1;33m=\u001b[0m\u001b[0mTrue\u001b[0m\u001b[1;33m)\u001b[0m\u001b[1;33m\u001b[0m\u001b[0m\n\u001b[0m",
      "\u001b[1;32m<ipython-input-167-688be7b7a61a>\u001b[0m in \u001b[0;36mjitterpipe\u001b[1;34m(dirpath, psrname, MJDint, clearoutput, cal, zap, scrunch, timing, resids)\u001b[0m\n\u001b[0;32m    269\u001b[0m \u001b[1;33m\u001b[0m\u001b[0m\n\u001b[0;32m    270\u001b[0m         \u001b[1;31m#Defining the residuals\u001b[0m\u001b[1;33m\u001b[0m\u001b[1;33m\u001b[0m\u001b[0m\n\u001b[1;32m--> 271\u001b[1;33m         \u001b[0mx\u001b[0m\u001b[1;33m=\u001b[0m\u001b[0mr\u001b[0m\u001b[1;33m.\u001b[0m\u001b[0mread_residuals\u001b[0m\u001b[1;33m(\u001b[0m\u001b[0mfilename\u001b[0m\u001b[1;33m=\u001b[0m \u001b[0mDIR\u001b[0m \u001b[1;33m+\u001b[0m \u001b[1;34m\"products/resid_80F8.tmp\"\u001b[0m\u001b[1;33m)\u001b[0m\u001b[1;33m\u001b[0m\u001b[0m\n\u001b[0m\u001b[0;32m    272\u001b[0m \u001b[1;33m\u001b[0m\u001b[0m\n\u001b[0;32m    273\u001b[0m         \u001b[1;31m#Defining the colormap\u001b[0m\u001b[1;33m\u001b[0m\u001b[1;33m\u001b[0m\u001b[0m\n",
      "\u001b[1;32m/usr/local/src/presto/lib/python/residuals.pyc\u001b[0m in \u001b[0;36mread_residuals\u001b[1;34m(filename)\u001b[0m\n\u001b[0;32m     37\u001b[0m     \"\"\"\n\u001b[0;32m     38\u001b[0m     \u001b[0mr\u001b[0m \u001b[1;33m=\u001b[0m \u001b[0mresiduals\u001b[0m\u001b[1;33m(\u001b[0m\u001b[1;33m)\u001b[0m\u001b[1;33m\u001b[0m\u001b[0m\n\u001b[1;32m---> 39\u001b[1;33m     \u001b[0minfile\u001b[0m \u001b[1;33m=\u001b[0m \u001b[0mopen\u001b[0m\u001b[1;33m(\u001b[0m\u001b[0mfilename\u001b[0m\u001b[1;33m,\u001b[0m \u001b[1;34m\"rb\"\u001b[0m\u001b[1;33m)\u001b[0m\u001b[1;33m\u001b[0m\u001b[0m\n\u001b[0m\u001b[0;32m     40\u001b[0m     \u001b[0mswapchar\u001b[0m \u001b[1;33m=\u001b[0m \u001b[1;34m'<'\u001b[0m \u001b[1;31m# this is little-endian (default)\u001b[0m\u001b[1;33m\u001b[0m\u001b[0m\n\u001b[0;32m     41\u001b[0m     \u001b[0mdata\u001b[0m \u001b[1;33m=\u001b[0m \u001b[0minfile\u001b[0m\u001b[1;33m.\u001b[0m\u001b[0mread\u001b[0m\u001b[1;33m(\u001b[0m\u001b[1;36m8\u001b[0m\u001b[1;33m)\u001b[0m\u001b[1;33m\u001b[0m\u001b[0m\n",
      "\u001b[1;31mIOError\u001b[0m: [Errno 2] No such file or directory: '/nimrod1/eschwab/B1937_data/products/resid_80F8.tmp'"
     ]
    }
   ],
   "source": [
    "#Trying B1937 again\n",
    "jitterpipe('/nimrod1/eschwab/B1937_data/', 'B1937+21', 57376, clearoutput=True, cal=True, zap=True, scrunch=True, timing=True, resids=True)"
   ]
  },
  {
   "cell_type": "code",
   "execution_count": 180,
   "metadata": {
    "collapsed": true
   },
   "outputs": [
    {
     "name": "stdout",
     "output_type": "stream",
     "text": [
      "jitterpipe: Running B1937+21 jitterpipe reduction pipeline\n",
      "jitterpipe: Deleting old version\n",
      "jitterpipe: Deletion complete\n",
      "jitterpipe: Generating pulsar calibrators\n",
      "jitterpipe: Generating calibrator database\n",
      "jitterpipe: Calibrating fits files\n",
      "jitterpipe: Calibration complete\n",
      "jitterpipe: Moving calibrated files\n",
      "jitterpipe: Removing RFI (this may take awhile)\n",
      "jitterpipe: Zapping complete\n",
      "jitterpipe: Making 10s-->80s, 256-->8 channel files\n",
      "jitterpipe: Making 256-->8 channel, no tscrunch files\n",
      "jitterpipe: Splitting complete\n",
      "jitterpipe: Producing timing solution\n",
      "jitterpipe: Writing daily tim file for 10s subint + 8 channel files\n",
      "jitterpipe: Timing solution complete\n",
      "jitterpipe: Running tempo\n",
      "56020\n",
      "tempo -G -f /nimrod1/eschwab/B1937_data/B1937+21_NANOGrav_11yv0.par /nimrod1/eschwab/B1937_data/timing/56020_B1937+21_NANOGrav_11y_NTF8.tim\n",
      "56059\n",
      "tempo -G -f /nimrod1/eschwab/B1937_data/B1937+21_NANOGrav_11yv0.par /nimrod1/eschwab/B1937_data/timing/56059_B1937+21_NANOGrav_11y_NTF8.tim\n",
      "56108\n",
      "tempo -G -f /nimrod1/eschwab/B1937_data/B1937+21_NANOGrav_11yv0.par /nimrod1/eschwab/B1937_data/timing/56108_B1937+21_NANOGrav_11y_NTF8.tim\n",
      "56139\n",
      "tempo -G -f /nimrod1/eschwab/B1937_data/B1937+21_NANOGrav_11yv0.par /nimrod1/eschwab/B1937_data/timing/56139_B1937+21_NANOGrav_11y_NTF8.tim\n",
      "56173\n",
      "tempo -G -f /nimrod1/eschwab/B1937_data/B1937+21_NANOGrav_11yv0.par /nimrod1/eschwab/B1937_data/timing/56173_B1937+21_NANOGrav_11y_NTF8.tim\n",
      "56209\n",
      "tempo -G -f /nimrod1/eschwab/B1937_data/B1937+21_NANOGrav_11yv0.par /nimrod1/eschwab/B1937_data/timing/56209_B1937+21_NANOGrav_11y_NTF8.tim\n",
      "56250\n",
      "tempo -G -f /nimrod1/eschwab/B1937_data/B1937+21_NANOGrav_11yv0.par /nimrod1/eschwab/B1937_data/timing/56250_B1937+21_NANOGrav_11y_NTF8.tim\n",
      "56284\n",
      "tempo -G -f /nimrod1/eschwab/B1937_data/B1937+21_NANOGrav_11yv0.par /nimrod1/eschwab/B1937_data/timing/56284_B1937+21_NANOGrav_11y_NTF8.tim\n",
      "56305\n",
      "tempo -G -f /nimrod1/eschwab/B1937_data/B1937+21_NANOGrav_11yv0.par /nimrod1/eschwab/B1937_data/timing/56305_B1937+21_NANOGrav_11y_NTF8.tim\n",
      "56325\n",
      "tempo -G -f /nimrod1/eschwab/B1937_data/B1937+21_NANOGrav_11yv0.par /nimrod1/eschwab/B1937_data/timing/56325_B1937+21_NANOGrav_11y_NTF8.tim\n",
      "56345\n",
      "tempo -G -f /nimrod1/eschwab/B1937_data/B1937+21_NANOGrav_11yv0.par /nimrod1/eschwab/B1937_data/timing/56345_B1937+21_NANOGrav_11y_NTF8.tim\n",
      "56383\n",
      "tempo -G -f /nimrod1/eschwab/B1937_data/B1937+21_NANOGrav_11yv0.par /nimrod1/eschwab/B1937_data/timing/56383_B1937+21_NANOGrav_11y_NTF8.tim\n",
      "56403\n",
      "tempo -G -f /nimrod1/eschwab/B1937_data/B1937+21_NANOGrav_11yv0.par /nimrod1/eschwab/B1937_data/timing/56403_B1937+21_NANOGrav_11y_NTF8.tim\n",
      "56425\n",
      "tempo -G -f /nimrod1/eschwab/B1937_data/B1937+21_NANOGrav_11yv0.par /nimrod1/eschwab/B1937_data/timing/56425_B1937+21_NANOGrav_11y_NTF8.tim\n",
      "56446\n",
      "tempo -G -f /nimrod1/eschwab/B1937_data/B1937+21_NANOGrav_11yv0.par /nimrod1/eschwab/B1937_data/timing/56446_B1937+21_NANOGrav_11y_NTF8.tim\n",
      "56465\n",
      "tempo -G -f /nimrod1/eschwab/B1937_data/B1937+21_NANOGrav_11yv0.par /nimrod1/eschwab/B1937_data/timing/56465_B1937+21_NANOGrav_11y_NTF8.tim\n",
      "56531\n",
      "tempo -G -f /nimrod1/eschwab/B1937_data/B1937+21_NANOGrav_11yv0.par /nimrod1/eschwab/B1937_data/timing/56531_B1937+21_NANOGrav_11y_NTF8.tim\n",
      "56532\n",
      "tempo -G -f /nimrod1/eschwab/B1937_data/B1937+21_NANOGrav_11yv0.par /nimrod1/eschwab/B1937_data/timing/56532_B1937+21_NANOGrav_11y_NTF8.tim\n",
      "56550\n",
      "tempo -G -f /nimrod1/eschwab/B1937_data/B1937+21_NANOGrav_11yv0.par /nimrod1/eschwab/B1937_data/timing/56550_B1937+21_NANOGrav_11y_NTF8.tim\n",
      "56571\n",
      "tempo -G -f /nimrod1/eschwab/B1937_data/B1937+21_NANOGrav_11yv0.par /nimrod1/eschwab/B1937_data/timing/56571_B1937+21_NANOGrav_11y_NTF8.tim\n",
      "56572\n",
      "tempo -G -f /nimrod1/eschwab/B1937_data/B1937+21_NANOGrav_11yv0.par /nimrod1/eschwab/B1937_data/timing/56572_B1937+21_NANOGrav_11y_NTF8.tim\n",
      "56593\n",
      "tempo -G -f /nimrod1/eschwab/B1937_data/B1937+21_NANOGrav_11yv0.par /nimrod1/eschwab/B1937_data/timing/56593_B1937+21_NANOGrav_11y_NTF8.tim\n",
      "56613\n",
      "tempo -G -f /nimrod1/eschwab/B1937_data/B1937+21_NANOGrav_11yv0.par /nimrod1/eschwab/B1937_data/timing/56613_B1937+21_NANOGrav_11y_NTF8.tim\n",
      "56634\n",
      "tempo -G -f /nimrod1/eschwab/B1937_data/B1937+21_NANOGrav_11yv0.par /nimrod1/eschwab/B1937_data/timing/56634_B1937+21_NANOGrav_11y_NTF8.tim\n",
      "56654\n",
      "tempo -G -f /nimrod1/eschwab/B1937_data/B1937+21_NANOGrav_11yv0.par /nimrod1/eschwab/B1937_data/timing/56654_B1937+21_NANOGrav_11y_NTF8.tim\n",
      "56669\n",
      "tempo -G -f /nimrod1/eschwab/B1937_data/B1937+21_NANOGrav_11yv0.par /nimrod1/eschwab/B1937_data/timing/56669_B1937+21_NANOGrav_11y_NTF8.tim\n",
      "56739\n",
      "tempo -G -f /nimrod1/eschwab/B1937_data/B1937+21_NANOGrav_11yv0.par /nimrod1/eschwab/B1937_data/timing/56739_B1937+21_NANOGrav_11y_NTF8.tim\n",
      "56755\n",
      "tempo -G -f /nimrod1/eschwab/B1937_data/B1937+21_NANOGrav_11yv0.par /nimrod1/eschwab/B1937_data/timing/56755_B1937+21_NANOGrav_11y_NTF8.tim\n",
      "56844\n",
      "tempo -G -f /nimrod1/eschwab/B1937_data/B1937+21_NANOGrav_11yv0.par /nimrod1/eschwab/B1937_data/timing/56844_B1937+21_NANOGrav_11y_NTF8.tim\n",
      "56869\n",
      "tempo -G -f /nimrod1/eschwab/B1937_data/B1937+21_NANOGrav_11yv0.par /nimrod1/eschwab/B1937_data/timing/56869_B1937+21_NANOGrav_11y_NTF8.tim\n",
      "56887\n",
      "tempo -G -f /nimrod1/eschwab/B1937_data/B1937+21_NANOGrav_11yv0.par /nimrod1/eschwab/B1937_data/timing/56887_B1937+21_NANOGrav_11y_NTF8.tim\n",
      "56933\n",
      "tempo -G -f /nimrod1/eschwab/B1937_data/B1937+21_NANOGrav_11yv0.par /nimrod1/eschwab/B1937_data/timing/56933_B1937+21_NANOGrav_11y_NTF8.tim\n",
      "56970\n",
      "tempo -G -f /nimrod1/eschwab/B1937_data/B1937+21_NANOGrav_11yv0.par /nimrod1/eschwab/B1937_data/timing/56970_B1937+21_NANOGrav_11y_NTF8.tim\n",
      "57014\n",
      "tempo -G -f /nimrod1/eschwab/B1937_data/B1937+21_NANOGrav_11yv0.par /nimrod1/eschwab/B1937_data/timing/57014_B1937+21_NANOGrav_11y_NTF8.tim\n",
      "57075\n",
      "tempo -G -f /nimrod1/eschwab/B1937_data/B1937+21_NANOGrav_11yv0.par /nimrod1/eschwab/B1937_data/timing/57075_B1937+21_NANOGrav_11y_NTF8.tim\n",
      "57095\n",
      "tempo -G -f /nimrod1/eschwab/B1937_data/B1937+21_NANOGrav_11yv0.par /nimrod1/eschwab/B1937_data/timing/57095_B1937+21_NANOGrav_11y_NTF8.tim\n",
      "57117\n",
      "tempo -G -f /nimrod1/eschwab/B1937_data/B1937+21_NANOGrav_11yv0.par /nimrod1/eschwab/B1937_data/timing/57117_B1937+21_NANOGrav_11y_NTF8.tim\n",
      "57138\n",
      "tempo -G -f /nimrod1/eschwab/B1937_data/B1937+21_NANOGrav_11yv0.par /nimrod1/eschwab/B1937_data/timing/57138_B1937+21_NANOGrav_11y_NTF8.tim\n",
      "57185\n",
      "tempo -G -f /nimrod1/eschwab/B1937_data/B1937+21_NANOGrav_11yv0.par /nimrod1/eschwab/B1937_data/timing/57185_B1937+21_NANOGrav_11y_NTF8.tim\n",
      "57201\n",
      "tempo -G -f /nimrod1/eschwab/B1937_data/B1937+21_NANOGrav_11yv0.par /nimrod1/eschwab/B1937_data/timing/57201_B1937+21_NANOGrav_11y_NTF8.tim\n",
      "57234\n",
      "tempo -G -f /nimrod1/eschwab/B1937_data/B1937+21_NANOGrav_11yv0.par /nimrod1/eschwab/B1937_data/timing/57234_B1937+21_NANOGrav_11y_NTF8.tim\n",
      "57242\n",
      "tempo -G -f /nimrod1/eschwab/B1937_data/B1937+21_NANOGrav_11yv0.par /nimrod1/eschwab/B1937_data/timing/57242_B1937+21_NANOGrav_11y_NTF8.tim\n",
      "57265\n",
      "tempo -G -f /nimrod1/eschwab/B1937_data/B1937+21_NANOGrav_11yv0.par /nimrod1/eschwab/B1937_data/timing/57265_B1937+21_NANOGrav_11y_NTF8.tim\n",
      "57327\n",
      "tempo -G -f /nimrod1/eschwab/B1937_data/B1937+21_NANOGrav_11yv0.par /nimrod1/eschwab/B1937_data/timing/57327_B1937+21_NANOGrav_11y_NTF8.tim\n",
      "57348\n",
      "tempo -G -f /nimrod1/eschwab/B1937_data/B1937+21_NANOGrav_11yv0.par /nimrod1/eschwab/B1937_data/timing/57348_B1937+21_NANOGrav_11y_NTF8.tim\n",
      "57376\n",
      "tempo -G -f /nimrod1/eschwab/B1937_data/B1937+21_NANOGrav_11yv0.par /nimrod1/eschwab/B1937_data/timing/57376_B1937+21_NANOGrav_11y_NTF8.tim\n",
      "jitterpipe: Residuals generated\n",
      "jitterpipe: Generating Plots for specified MJD\n"
     ]
    },
    {
     "data": {
      "image/png": "[encoded data removed]",
      "text/plain": [
       "<matplotlib.figure.Figure at 0x42a4f10>"
      ]
     },
     "metadata": {},
     "output_type": "display_data"
    },
    {
     "name": "stdout",
     "output_type": "stream",
     "text": [
      "jitterpipe: Plots generated\n",
      "jitterpipe: Jitterpipe complete\n"
     ]
    }
   ],
   "source": [
    "#Trying B1937 again with modified daily tempo on both subints #IT WORKS!!!!!\n",
    "jitterpipe('/nimrod1/eschwab/B1937_data/', 'B1937+21', 57376, clearoutput=True, cal=True, zap=True, scrunch=True, timing=True, resids=True)"
   ]
  },
  {
   "cell_type": "code",
   "execution_count": 184,
   "metadata": {
    "collapsed": false
   },
   "outputs": [
    {
     "name": "stdout",
     "output_type": "stream",
     "text": [
      "jitterpipe: Running B1937+21 jitterpipe reduction pipeline\n",
      "jitterpipe: Running tempo\n",
      "jitterpipe: Residuals generated\n",
      "jitterpipe: Generating Plots for specified MJD\n"
     ]
    },
    {
     "data": {
      "image/png": "[encoded data removed]",
      "text/plain": [
       "<matplotlib.figure.Figure at 0x5841ad0>"
      ]
     },
     "metadata": {},
     "output_type": "display_data"
    },
    {
     "data": {
      "image/png": "[encoded data removed]",
      "text/plain": [
       "<matplotlib.figure.Figure at 0x4a03490>"
      ]
     },
     "metadata": {},
     "output_type": "display_data"
    },
    {
     "name": "stdout",
     "output_type": "stream",
     "text": [
      "jitterpipe: Plots generated\n",
      "jitterpipe: Jitterpipe complete\n"
     ]
    }
   ],
   "source": [
    "#IT WORKS!!!!!\n",
    "jitterpipe('/nimrod1/eschwab/B1937_data/', 'B1937+21', 57376, clearoutput=False, cal=False, zap=False, scrunch=False, timing=False, resids=True)"
   ]
  },
  {
   "cell_type": "code",
   "execution_count": null,
   "metadata": {
    "collapsed": true
   },
   "outputs": [],
   "source": []
  }
 ],
 "metadata": {
  "kernelspec": {
   "display_name": "Python 2",
   "language": "python",
   "name": "python2"
  },
  "language_info": {
   "codemirror_mode": {
    "name": "ipython",
    "version": 2
   },
   "file_extension": ".py",
   "mimetype": "text/x-python",
   "name": "python",
   "nbconvert_exporter": "python",
   "pygments_lexer": "ipython2",
   "version": "2.7.3"
  }
 },
 "nbformat": 4,
 "nbformat_minor": 0
}
